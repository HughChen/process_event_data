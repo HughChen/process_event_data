{
 "cells": [
  {
   "cell_type": "markdown",
   "metadata": {},
   "source": [
    "# Initialize file"
   ]
  },
  {
   "cell_type": "code",
   "execution_count": 21,
   "metadata": {
    "collapsed": true
   },
   "outputs": [],
   "source": [
    "import csv\n",
    "from datetime import datetime\n",
    "\n",
    "file_cutoff = 30\n",
    "write_header = [\"database\", \"file_name\", \"file_line\", \"latitude\", \"longitude\", \n",
    "                \"date\", \"actor1\", \"actor2\", \"source\", \"description\", \n",
    "                \"num_affected\", \"event_type\", \"violent\"]\n",
    "date_ind = write_header.index(\"date\")\n",
    "event_ind = write_header.index(\"event_type\")\n",
    "with open('sample_out.csv', 'w') as write_file:\n",
    "    csv_writer = csv.writer(write_file)\n",
    "    csv_writer.writerow(write_header)"
   ]
  },
  {
   "cell_type": "markdown",
   "metadata": {},
   "source": [
    "## ACLED"
   ]
  },
  {
   "cell_type": "code",
   "execution_count": 6,
   "metadata": {
    "collapsed": false
   },
   "outputs": [
    {
     "name": "stdout",
     "output_type": "stream",
     "text": [
      "Current File: ../ACLED/ACLED-Asia-Running-File-2016.csv\n",
      "Header length: 113\n",
      "['GWNO', 'EVENT_ID_CNTY', 'EVENT_ID_NO_CNTY', 'EVENT_DATE', 'YEAR', 'TIME_PRECISION', 'EVENT_TYPE', 'ACTOR1', 'ALLY_ACTOR_1', 'INTER1', 'ACTOR2', 'ALLY_ACTOR_2', 'INTER2', 'INTERACTION', 'COUNTRY', 'ADMIN1', 'ADMIN2', 'ADMIN3', 'LOCATION', 'LATITUDE', 'LONGITUDE', 'GEO_PRECISION', 'SOURCE', 'NOTES', 'FATALITIES', '', '', '', '', '', '', '', '', '', '', '', '', '', '', '', '', '', '', '', '', '', '', '', '', '', '', '', '', '', '', '', '', '', '', '', '', '', '', '', '', '', '', '', '', '', '', '', '', '', '', '', '', '', '', '', '', '', '', '', '', '', '', '', '', '', '', '', '', '', '', '', '', '', '', '', '', '', '', '', '', '', '', '', '', '', '', '', '']\n",
      "\n",
      "\n"
     ]
    }
   ],
   "source": [
    "# Grab header\n",
    "ACLEDPATH = \"../ACLED/\"\n",
    "fname = '{0}ACLED-Asia-Running-file-January-to-December-2015-V2.csv'.format(ACLEDPATH)\n",
    "fname = '{0}ACLED-Asia-Running-File-2016.csv'.format(ACLEDPATH)\n",
    "print(\"Current File: {0}\".format(fname))\n",
    "with open(fname, 'rb') as f:\n",
    "    reader = csv.reader(f, delimiter=\",\")\n",
    "    header = next(reader)\n",
    "    print(\"Header length: {0}\".format(len(header)))\n",
    "    print(header)\n",
    "print(\"\\n\")\n",
    "\n",
    "[lat_index, long_index, geo_precision] = [header.index(\"LATITUDE\"), \n",
    "                                          header.index(\"LONGITUDE\"), \n",
    "                                          header.index(\"GEO_PRECISION\")]\n",
    "[date_index, date_precision] = [header.index(\"EVENT_DATE\"), header.index(\"TIME_PRECISION\")]\n",
    "[actor1_index, actor2_index] = [header.index(\"ACTOR1\"), header.index(\"ACTOR2\")]\n",
    "[source_ind, source_notes] = [header.index(\"SOURCE\"), header.index(\"NOTES\")]\n",
    "aff_index = header.index(\"FATALITIES\")\n",
    "event_index = header.index(\"EVENT_TYPE\")\n",
    "violent_events_acled = [\"Battle-Government regains territory\",\n",
    "                        \"Battle-Government regains territory\",\n",
    "                        \"Battle-No change of territory\",\n",
    "                        \"Battle-Non-state actor overtakes territory\",\n",
    "                        \"Battle-Non-state actors overtake territory\",\n",
    "                        \"RIots/Protests\",\n",
    "                        \"Remote violence\",\n",
    "                        \"Riots/Protests\",\n",
    "                        \"Violence Against Civilians\",\n",
    "                        \"Violence against civilians\",\n",
    "                        \"Violence against civilians\"]"
   ]
  },
  {
   "cell_type": "code",
   "execution_count": 12,
   "metadata": {
    "collapsed": false
   },
   "outputs": [
    {
     "name": "stdout",
     "output_type": "stream",
     "text": [
      "True\n",
      "True\n",
      "True\n",
      "True\n",
      "True\n",
      "True\n",
      "True\n",
      "True\n",
      "True\n",
      "True\n",
      "True\n",
      "True\n",
      "True\n",
      "True\n",
      "True\n",
      "True\n",
      "True\n",
      "True\n",
      "True\n",
      "True\n",
      "True\n",
      "True\n",
      "True\n",
      "True\n",
      "True\n",
      "True\n",
      "True\n",
      "True\n",
      "True\n",
      "True\n"
     ]
    }
   ],
   "source": [
    "fname = '{0}ACLED-Asia-Running-file-January-to-December-2015-V2.csv'.format(ACLEDPATH)\n",
    "indices = [lat_index, long_index, date_index, actor1_index, actor2_index, \n",
    "           source_ind, source_notes, aff_index, event_index]\n",
    "\n",
    "with open('sample_out.csv', 'a') as write_file:\n",
    "    csv_writer = csv.writer(write_file)\n",
    "    with open(fname, 'rb') as f:\n",
    "        reader = csv.reader(f, delimiter=\",\")\n",
    "        line_num = -1\n",
    "        count = 0\n",
    "        for line in reader:\n",
    "            if (count == 0):\n",
    "                count = count + 1\n",
    "                continue\n",
    "            if (count > file_cutoff):\n",
    "                break\n",
    "            line_num = line_num + 1\n",
    "            write_line = [line[index] for index in indices]\n",
    "            write_line = [\"ACLED\", fname, str(line_num)] + write_line\n",
    "            date_time = datetime.strptime(write_line[date_ind], '%d-%B-%Y')\n",
    "            write_line[date_ind] = str(date_time)\n",
    "            \n",
    "            print(date_time.year<2016)\n",
    "            \n",
    "            write_line.append(str(line[event_index] in violent_events_acled))\n",
    "            if (write_line.count('') >= 3):\n",
    "                continue\n",
    "            csv_writer.writerow(write_line)\n",
    "            count = count + 1"
   ]
  },
  {
   "cell_type": "markdown",
   "metadata": {},
   "source": [
    "## GDELT"
   ]
  },
  {
   "cell_type": "code",
   "execution_count": 17,
   "metadata": {
    "collapsed": false
   },
   "outputs": [
    {
     "name": "stdout",
     "output_type": "stream",
     "text": [
      "\n",
      "\n",
      "Header length: 58\n",
      "['GLOBALEVENTID', 'SQLDATE', 'MonthYear', 'Year', 'FractionDate', 'Actor1Code', 'Actor1Name', 'Actor1CountryCode', 'Actor1KnownGroupCode', 'Actor1EthnicCode', 'Actor1Religion1Code', 'Actor1Religion2Code', 'Actor1Type1Code', 'Actor1Type2Code', 'Actor1Type3Code', 'Actor2Code', 'Actor2Name', 'Actor2CountryCode', 'Actor2KnownGroupCode', 'Actor2EthnicCode', 'Actor2Religion1Code', 'Actor2Religion2Code', 'Actor2Type1Code', 'Actor2Type2Code', 'Actor2Type3Code', 'IsRootEvent', 'EventCode', 'EventBaseCode', 'EventRootCode', 'QuadClass', 'GoldsteinScale', 'NumMentions', 'NumSources', 'NumArticles', 'AvgTone', 'Actor1Geo_Type', 'Actor1Geo_FullName', 'Actor1Geo_CountryCode', 'Actor1Geo_ADM1Code', 'Actor1Geo_Lat', 'Actor1Geo_Long', 'Actor1Geo_FeatureID', 'Actor2Geo_Type', 'Actor2Geo_FullName', 'Actor2Geo_CountryCode', 'Actor2Geo_ADM1Code', 'Actor2Geo_Lat', 'Actor2Geo_Long', 'Actor2Geo_FeatureID', 'ActionGeo_Type', 'ActionGeo_FullName', 'ActionGeo_CountryCode', 'ActionGeo_ADM1Code', 'ActionGeo_Lat', 'ActionGeo_Long', 'ActionGeo_FeatureID', 'DATEADDED', 'SOURCEURL']\n"
     ]
    }
   ],
   "source": [
    "import csv\n",
    "from datetime import datetime\n",
    "# Grab header\n",
    "GDELTPATH = \"../GDELT/\"\n",
    "print(\"\\n\")\n",
    "f = open(\"{0}CSV.header.dailyupdates.txt\".format(GDELTPATH),\"r\") \n",
    "header = f.readline().split('\\t')\n",
    "print(\"Header length: {0}\".format(len(header)))\n",
    "print(header)\n",
    "f.close()\n",
    "\n",
    "lat_index, long_index = [header.index(\"Actor1Geo_Lat\"), header.index(\"Actor1Geo_Long\")]\n",
    "date_index = header.index(\"SQLDATE\")\n",
    "[actor1_index, actor2_index] = [header.index(\"Actor1Code\"), header.index(\"Actor2Code\")]\n",
    "[header.index(\"NumMentions\"), header.index(\"AvgTone\")]\n",
    "event_index = header.index(\"EventCode\")\n",
    "def is_violent_gdelt(event_code):\n",
    "    if (event_code.startswith(\"18\") or event_code.startswith(\"19\") or event_code.startswith(\"20\")):\n",
    "        return True\n",
    "    else:\n",
    "        return False"
   ]
  },
  {
   "cell_type": "code",
   "execution_count": 23,
   "metadata": {
    "collapsed": false
   },
   "outputs": [
    {
     "ename": "Error",
     "evalue": "line contains NULL byte",
     "output_type": "error",
     "traceback": [
      "\u001b[0;31m---------------------------------------------------------------------------\u001b[0m",
      "\u001b[0;31mError\u001b[0m                                     Traceback (most recent call last)",
      "\u001b[0;32m<ipython-input-23-c22cc644c0a9>\u001b[0m in \u001b[0;36m<module>\u001b[0;34m()\u001b[0m\n\u001b[1;32m     10\u001b[0m         \u001b[0mline_num\u001b[0m \u001b[0;34m=\u001b[0m \u001b[0;34m-\u001b[0m\u001b[0;36m1\u001b[0m\u001b[0;34m\u001b[0m\u001b[0m\n\u001b[1;32m     11\u001b[0m         \u001b[0mcount\u001b[0m \u001b[0;34m=\u001b[0m \u001b[0;36m0\u001b[0m\u001b[0;34m\u001b[0m\u001b[0m\n\u001b[0;32m---> 12\u001b[0;31m         \u001b[0;32mfor\u001b[0m \u001b[0mline\u001b[0m \u001b[0;32min\u001b[0m \u001b[0mreader\u001b[0m\u001b[0;34m:\u001b[0m\u001b[0;34m\u001b[0m\u001b[0m\n\u001b[0m\u001b[1;32m     13\u001b[0m             \u001b[0;32mif\u001b[0m \u001b[0;34m(\u001b[0m\u001b[0mcount\u001b[0m \u001b[0;34m==\u001b[0m \u001b[0;36m0\u001b[0m\u001b[0;34m)\u001b[0m\u001b[0;34m:\u001b[0m\u001b[0;34m\u001b[0m\u001b[0m\n\u001b[1;32m     14\u001b[0m                 \u001b[0mcount\u001b[0m \u001b[0;34m=\u001b[0m \u001b[0mcount\u001b[0m \u001b[0;34m+\u001b[0m \u001b[0;36m1\u001b[0m\u001b[0;34m\u001b[0m\u001b[0m\n",
      "\u001b[0;31mError\u001b[0m: line contains NULL byte"
     ]
    }
   ],
   "source": [
    "fname = '{0}events/20140101.export.csv'.format(GDELTPATH)\n",
    "indices = [lat_index, long_index, date_index, actor1_index, \n",
    "           actor2_index, -1, -1, -1, event_index]\n",
    "\n",
    "import shutil\n",
    "with open('sample_out.csv', 'a') as write_file:\n",
    "    csv_writer = csv.writer(write_file)\n",
    "    with open(fname, 'rb') as f:\n",
    "        reader = csv.reader(f, delimiter=\"\\t\")\n",
    "        line_num = -1\n",
    "        count = 0\n",
    "        for line in reader:\n",
    "            if (count == 0):\n",
    "                count = count + 1\n",
    "                continue\n",
    "            if (count > file_cutoff):\n",
    "                break\n",
    "            line_num = line_num + 1\n",
    "            write_line = [line[index] if index is not -1 else 'NA' for index in indices]\n",
    "            write_line = [\"GDELT\", fname, str(line_num)] + write_line\n",
    "            write_line[date_ind] = str(datetime.strptime(write_line[date_ind], '%Y%m%d'))\n",
    "            write_line[event_ind] = \"CAMEO:\"+write_line[event_ind]\n",
    "            write_line.append(str(is_violent_gdelt(line[event_index])))\n",
    "            if (write_line.count('') >= 3):\n",
    "                continue\n",
    "            csv_writer.writerow(write_line)\n",
    "            count = count + 1            "
   ]
  },
  {
   "cell_type": "code",
   "execution_count": 25,
   "metadata": {
    "collapsed": false
   },
   "outputs": [
    {
     "ename": "IOError",
     "evalue": "Not a gzipped file",
     "output_type": "error",
     "traceback": [
      "\u001b[0;31m---------------------------------------------------------------------------\u001b[0m",
      "\u001b[0;31mIOError\u001b[0m                                   Traceback (most recent call last)",
      "\u001b[0;32m<ipython-input-25-fe97ecc38e76>\u001b[0m in \u001b[0;36m<module>\u001b[0;34m()\u001b[0m\n\u001b[1;32m      6\u001b[0m     \u001b[0mcsv_writer\u001b[0m \u001b[0;34m=\u001b[0m \u001b[0mcsv\u001b[0m\u001b[0;34m.\u001b[0m\u001b[0mwriter\u001b[0m\u001b[0;34m(\u001b[0m\u001b[0mwrite_file\u001b[0m\u001b[0;34m)\u001b[0m\u001b[0;34m\u001b[0m\u001b[0m\n\u001b[1;32m      7\u001b[0m     \u001b[0;32mwith\u001b[0m \u001b[0mopen\u001b[0m\u001b[0;34m(\u001b[0m\u001b[0;34m\"tmpfile\"\u001b[0m\u001b[0;34m,\u001b[0m \u001b[0;34m\"wb\"\u001b[0m\u001b[0;34m)\u001b[0m \u001b[0;32mas\u001b[0m \u001b[0mf\u001b[0m\u001b[0;34m:\u001b[0m\u001b[0;34m\u001b[0m\u001b[0m\n\u001b[0;32m----> 8\u001b[0;31m         \u001b[0mshutil\u001b[0m\u001b[0;34m.\u001b[0m\u001b[0mcopyfileobj\u001b[0m\u001b[0;34m(\u001b[0m\u001b[0mgzip\u001b[0m\u001b[0;34m.\u001b[0m\u001b[0mopen\u001b[0m\u001b[0;34m(\u001b[0m\u001b[0mfname\u001b[0m\u001b[0;34m)\u001b[0m\u001b[0;34m,\u001b[0m \u001b[0mfname\u001b[0m\u001b[0;34m)\u001b[0m\u001b[0;34m\u001b[0m\u001b[0m\n\u001b[0m\u001b[1;32m      9\u001b[0m         \u001b[0mreader\u001b[0m \u001b[0;34m=\u001b[0m \u001b[0mcsv\u001b[0m\u001b[0;34m.\u001b[0m\u001b[0mreader\u001b[0m\u001b[0;34m(\u001b[0m\u001b[0mf\u001b[0m\u001b[0;34m,\u001b[0m \u001b[0mdelimiter\u001b[0m\u001b[0;34m=\u001b[0m\u001b[0;34m\"\\t\"\u001b[0m\u001b[0;34m)\u001b[0m\u001b[0;34m\u001b[0m\u001b[0m\n\u001b[1;32m     10\u001b[0m         \u001b[0mline_num\u001b[0m \u001b[0;34m=\u001b[0m \u001b[0;34m-\u001b[0m\u001b[0;36m1\u001b[0m\u001b[0;34m\u001b[0m\u001b[0m\n",
      "\u001b[0;32m/usr/local/Cellar/python/2.7.13/Frameworks/Python.framework/Versions/2.7/lib/python2.7/shutil.pyc\u001b[0m in \u001b[0;36mcopyfileobj\u001b[0;34m(fsrc, fdst, length)\u001b[0m\n\u001b[1;32m     47\u001b[0m     \u001b[0;34m\"\"\"copy data from file-like object fsrc to file-like object fdst\"\"\"\u001b[0m\u001b[0;34m\u001b[0m\u001b[0m\n\u001b[1;32m     48\u001b[0m     \u001b[0;32mwhile\u001b[0m \u001b[0;36m1\u001b[0m\u001b[0;34m:\u001b[0m\u001b[0;34m\u001b[0m\u001b[0m\n\u001b[0;32m---> 49\u001b[0;31m         \u001b[0mbuf\u001b[0m \u001b[0;34m=\u001b[0m \u001b[0mfsrc\u001b[0m\u001b[0;34m.\u001b[0m\u001b[0mread\u001b[0m\u001b[0;34m(\u001b[0m\u001b[0mlength\u001b[0m\u001b[0;34m)\u001b[0m\u001b[0;34m\u001b[0m\u001b[0m\n\u001b[0m\u001b[1;32m     50\u001b[0m         \u001b[0;32mif\u001b[0m \u001b[0;32mnot\u001b[0m \u001b[0mbuf\u001b[0m\u001b[0;34m:\u001b[0m\u001b[0;34m\u001b[0m\u001b[0m\n\u001b[1;32m     51\u001b[0m             \u001b[0;32mbreak\u001b[0m\u001b[0;34m\u001b[0m\u001b[0m\n",
      "\u001b[0;32m/usr/local/Cellar/python/2.7.13/Frameworks/Python.framework/Versions/2.7/lib/python2.7/gzip.pyc\u001b[0m in \u001b[0;36mread\u001b[0;34m(self, size)\u001b[0m\n\u001b[1;32m    266\u001b[0m             \u001b[0;32mtry\u001b[0m\u001b[0;34m:\u001b[0m\u001b[0;34m\u001b[0m\u001b[0m\n\u001b[1;32m    267\u001b[0m                 \u001b[0;32mwhile\u001b[0m \u001b[0msize\u001b[0m \u001b[0;34m>\u001b[0m \u001b[0mself\u001b[0m\u001b[0;34m.\u001b[0m\u001b[0mextrasize\u001b[0m\u001b[0;34m:\u001b[0m\u001b[0;34m\u001b[0m\u001b[0m\n\u001b[0;32m--> 268\u001b[0;31m                     \u001b[0mself\u001b[0m\u001b[0;34m.\u001b[0m\u001b[0m_read\u001b[0m\u001b[0;34m(\u001b[0m\u001b[0mreadsize\u001b[0m\u001b[0;34m)\u001b[0m\u001b[0;34m\u001b[0m\u001b[0m\n\u001b[0m\u001b[1;32m    269\u001b[0m                     \u001b[0mreadsize\u001b[0m \u001b[0;34m=\u001b[0m \u001b[0mmin\u001b[0m\u001b[0;34m(\u001b[0m\u001b[0mself\u001b[0m\u001b[0;34m.\u001b[0m\u001b[0mmax_read_chunk\u001b[0m\u001b[0;34m,\u001b[0m \u001b[0mreadsize\u001b[0m \u001b[0;34m*\u001b[0m \u001b[0;36m2\u001b[0m\u001b[0;34m)\u001b[0m\u001b[0;34m\u001b[0m\u001b[0m\n\u001b[1;32m    270\u001b[0m             \u001b[0;32mexcept\u001b[0m \u001b[0mEOFError\u001b[0m\u001b[0;34m:\u001b[0m\u001b[0;34m\u001b[0m\u001b[0m\n",
      "\u001b[0;32m/usr/local/Cellar/python/2.7.13/Frameworks/Python.framework/Versions/2.7/lib/python2.7/gzip.pyc\u001b[0m in \u001b[0;36m_read\u001b[0;34m(self, size)\u001b[0m\n\u001b[1;32m    301\u001b[0m \u001b[0;34m\u001b[0m\u001b[0m\n\u001b[1;32m    302\u001b[0m             \u001b[0mself\u001b[0m\u001b[0;34m.\u001b[0m\u001b[0m_init_read\u001b[0m\u001b[0;34m(\u001b[0m\u001b[0;34m)\u001b[0m\u001b[0;34m\u001b[0m\u001b[0m\n\u001b[0;32m--> 303\u001b[0;31m             \u001b[0mself\u001b[0m\u001b[0;34m.\u001b[0m\u001b[0m_read_gzip_header\u001b[0m\u001b[0;34m(\u001b[0m\u001b[0;34m)\u001b[0m\u001b[0;34m\u001b[0m\u001b[0m\n\u001b[0m\u001b[1;32m    304\u001b[0m             \u001b[0mself\u001b[0m\u001b[0;34m.\u001b[0m\u001b[0mdecompress\u001b[0m \u001b[0;34m=\u001b[0m \u001b[0mzlib\u001b[0m\u001b[0;34m.\u001b[0m\u001b[0mdecompressobj\u001b[0m\u001b[0;34m(\u001b[0m\u001b[0;34m-\u001b[0m\u001b[0mzlib\u001b[0m\u001b[0;34m.\u001b[0m\u001b[0mMAX_WBITS\u001b[0m\u001b[0;34m)\u001b[0m\u001b[0;34m\u001b[0m\u001b[0m\n\u001b[1;32m    305\u001b[0m             \u001b[0mself\u001b[0m\u001b[0;34m.\u001b[0m\u001b[0m_new_member\u001b[0m \u001b[0;34m=\u001b[0m \u001b[0mFalse\u001b[0m\u001b[0;34m\u001b[0m\u001b[0m\n",
      "\u001b[0;32m/usr/local/Cellar/python/2.7.13/Frameworks/Python.framework/Versions/2.7/lib/python2.7/gzip.pyc\u001b[0m in \u001b[0;36m_read_gzip_header\u001b[0;34m(self)\u001b[0m\n\u001b[1;32m    195\u001b[0m         \u001b[0mmagic\u001b[0m \u001b[0;34m=\u001b[0m \u001b[0mself\u001b[0m\u001b[0;34m.\u001b[0m\u001b[0mfileobj\u001b[0m\u001b[0;34m.\u001b[0m\u001b[0mread\u001b[0m\u001b[0;34m(\u001b[0m\u001b[0;36m2\u001b[0m\u001b[0;34m)\u001b[0m\u001b[0;34m\u001b[0m\u001b[0m\n\u001b[1;32m    196\u001b[0m         \u001b[0;32mif\u001b[0m \u001b[0mmagic\u001b[0m \u001b[0;34m!=\u001b[0m \u001b[0;34m'\\037\\213'\u001b[0m\u001b[0;34m:\u001b[0m\u001b[0;34m\u001b[0m\u001b[0m\n\u001b[0;32m--> 197\u001b[0;31m             \u001b[0;32mraise\u001b[0m \u001b[0mIOError\u001b[0m\u001b[0;34m,\u001b[0m \u001b[0;34m'Not a gzipped file'\u001b[0m\u001b[0;34m\u001b[0m\u001b[0m\n\u001b[0m\u001b[1;32m    198\u001b[0m         \u001b[0mmethod\u001b[0m \u001b[0;34m=\u001b[0m \u001b[0mord\u001b[0m\u001b[0;34m(\u001b[0m \u001b[0mself\u001b[0m\u001b[0;34m.\u001b[0m\u001b[0mfileobj\u001b[0m\u001b[0;34m.\u001b[0m\u001b[0mread\u001b[0m\u001b[0;34m(\u001b[0m\u001b[0;36m1\u001b[0m\u001b[0;34m)\u001b[0m \u001b[0;34m)\u001b[0m\u001b[0;34m\u001b[0m\u001b[0m\n\u001b[1;32m    199\u001b[0m         \u001b[0;32mif\u001b[0m \u001b[0mmethod\u001b[0m \u001b[0;34m!=\u001b[0m \u001b[0;36m8\u001b[0m\u001b[0;34m:\u001b[0m\u001b[0;34m\u001b[0m\u001b[0m\n",
      "\u001b[0;31mIOError\u001b[0m: Not a gzipped file"
     ]
    }
   ],
   "source": [
    "fname = '{0}events/20150325.export.CSV.zip'.format(GDELTPATH)\n",
    "indices = [lat_index, long_index, date_index, actor1_index, \n",
    "           actor2_index, -1, -1, -1, event_index]\n",
    "import shutil\n",
    "with open('sample_out.csv', 'a') as write_file:\n",
    "    csv_writer = csv.writer(write_file)\n",
    "    with open(\"tmpfile\", \"wb\") as f:\n",
    "        shutil.copyfileobj(gzip.open(fname), fname)\n",
    "        reader = csv.reader(f, delimiter=\"\\t\")\n",
    "        line_num = -1\n",
    "        count = 0\n",
    "        for line in reader:\n",
    "            if (count == 0):\n",
    "                count = count + 1\n",
    "                continue\n",
    "            if (count > file_cutoff):\n",
    "                break\n",
    "            line_num = line_num + 1\n",
    "            write_line = [line[index] if index is not -1 else 'NA' for index in indices]\n",
    "            write_line = [\"GDELT\", fname, str(line_num)] + write_line\n",
    "            write_line[date_ind] = str(datetime.strptime(write_line[date_ind], '%Y%m%d'))\n",
    "            write_line[event_ind] = \"CAMEO:\"+write_line[event_ind]\n",
    "            write_line.append(str(is_violent_gdelt(line[event_index])))\n",
    "            if (write_line.count('') >= 3):\n",
    "                continue\n",
    "            csv_writer.writerow(write_line)\n",
    "            count = count + 1            "
   ]
  },
  {
   "cell_type": "code",
   "execution_count": 36,
   "metadata": {
    "collapsed": true
   },
   "outputs": [],
   "source": [
    "fname = '{0}events/20150325.export.CSV.zip'.format(GDELTPATH)\n",
    "indices = [lat_index, long_index, date_index, actor1_index, \n",
    "           actor2_index, -1, -1, -1, event_index]\n",
    "zip_ref = zipfile.ZipFile(fname, 'r')\n",
    "zip_ref.extractall(GDELTPATH+\"tmp/\")\n",
    "zip_ref.close()"
   ]
  },
  {
   "cell_type": "code",
   "execution_count": 42,
   "metadata": {
    "collapsed": false
   },
   "outputs": [
    {
     "name": "stdout",
     "output_type": "stream",
     "text": [
      "Header length: 58\n",
      "['GLOBALEVENTID', 'SQLDATE', 'MonthYear', 'Year', 'FractionDate', 'Actor1Code', 'Actor1Name', 'Actor1CountryCode', 'Actor1KnownGroupCode', 'Actor1EthnicCode', 'Actor1Religion1Code', 'Actor1Religion2Code', 'Actor1Type1Code', 'Actor1Type2Code', 'Actor1Type3Code', 'Actor2Code', 'Actor2Name', 'Actor2CountryCode', 'Actor2KnownGroupCode', 'Actor2EthnicCode', 'Actor2Religion1Code', 'Actor2Religion2Code', 'Actor2Type1Code', 'Actor2Type2Code', 'Actor2Type3Code', 'IsRootEvent', 'EventCode', 'EventBaseCode', 'EventRootCode', 'QuadClass', 'GoldsteinScale', 'NumMentions', 'NumSources', 'NumArticles', 'AvgTone', 'Actor1Geo_Type', 'Actor1Geo_FullName', 'Actor1Geo_CountryCode', 'Actor1Geo_ADM1Code', 'Actor1Geo_Lat', 'Actor1Geo_Long', 'Actor1Geo_FeatureID', 'Actor2Geo_Type', 'Actor2Geo_FullName', 'Actor2Geo_CountryCode', 'Actor2Geo_ADM1Code', 'Actor2Geo_Lat', 'Actor2Geo_Long', 'Actor2Geo_FeatureID', 'ActionGeo_Type', 'ActionGeo_FullName', 'ActionGeo_CountryCode', 'ActionGeo_ADM1Code', 'ActionGeo_Lat', 'ActionGeo_Long', 'ActionGeo_FeatureID', 'DATEADDED', 'SOURCEURL']\n"
     ]
    }
   ],
   "source": [
    "processor = GDELT_processor(GDELTPATH+\"tmp/\"+os.listdir(GDELTPATH+\"tmp/\")[0])\n",
    "processor.process(process_fname,file_cutoff)"
   ]
  },
  {
   "cell_type": "code",
   "execution_count": 43,
   "metadata": {
    "collapsed": true
   },
   "outputs": [],
   "source": [
    "folder = GDELTPATH+\"tmp/\"\n",
    "for the_file in os.listdir(folder):\n",
    "    file_path = os.path.join(folder, the_file)\n",
    "    try:\n",
    "        if os.path.isfile(file_path):\n",
    "            os.unlink(file_path)\n",
    "        #elif os.path.isdir(file_path): shutil.rmtree(file_path)\n",
    "    except Exception as e:\n",
    "        print(e)"
   ]
  },
  {
   "cell_type": "markdown",
   "metadata": {},
   "source": [
    "## ICEWS"
   ]
  },
  {
   "cell_type": "code",
   "execution_count": 3,
   "metadata": {
    "collapsed": false
   },
   "outputs": [
    {
     "name": "stdout",
     "output_type": "stream",
     "text": [
      "Header length: 20\n",
      "['Event ID', 'Event Date', 'Source Name', 'Source Sectors', 'Source Country', 'Event Text', 'CAMEO Code', 'Intensity', 'Target Name', 'Target Sectors', 'Target Country', 'Story ID', 'Sentence Number', 'Publisher', 'City', 'District', 'Province', 'Country', 'Latitude', 'Longitude']\n"
     ]
    }
   ],
   "source": [
    "# Load header\n",
    "ICEWSPATH = \"../ICEWS/\"\n",
    "fname = '{0}events.2016.20170615135114.tab'.format(ICEWSPATH)\n",
    "with open(fname, 'rb') as f:\n",
    "    reader = csv.reader(f, delimiter=\"\\t\")\n",
    "    header = next(reader)\n",
    "    print(\"Header length: {0}\".format(len(header)))\n",
    "    print(header)\n",
    "\n",
    "lat_index, long_index = [header.index(\"Latitude\"), header.index(\"Longitude\")]\n",
    "date_index = header.index(\"Event Date\")\n",
    "[actor1_index, actor2_index] = [header.index(\"Source Name\"), header.index(\"Target Name\")]\n",
    "source_ind, source_notes = [header.index(\"Publisher\"), header.index(\"Event Text\")]\n",
    "header.index(\"Intensity\")\n",
    "event_index = header.index(\"CAMEO Code\")\n",
    "def is_violent_icews(event_code):\n",
    "    if (event_code.startswith(\"18\") or event_code.startswith(\"19\") or event_code.startswith(\"20\")):\n",
    "        return True\n",
    "    else:\n",
    "        return False"
   ]
  },
  {
   "cell_type": "code",
   "execution_count": 4,
   "metadata": {
    "collapsed": false
   },
   "outputs": [],
   "source": [
    "fname = '{0}events.2016.20170615135114.tab'.format(ICEWSPATH)\n",
    "indices = [lat_index, long_index, date_index,  actor1_index, \n",
    "           actor2_index, source_ind, source_notes, -1, event_index]\n",
    "with open('sample_out.csv', 'a') as write_file:\n",
    "    csv_writer = csv.writer(write_file)\n",
    "    with open(fname, 'rb') as f:\n",
    "        reader = csv.reader(f, delimiter=\"\\t\")\n",
    "        line_num = -1\n",
    "        count = 0\n",
    "        for line in reader:\n",
    "            if (count == 0):\n",
    "                count = count + 1\n",
    "                continue\n",
    "            if (count > file_cutoff):\n",
    "                break\n",
    "            line_num = line_num + 1\n",
    "            write_line = [line[index] if index is not -1 else 'NA' for index in indices]\n",
    "            write_line = [\"ICEWS\", fname, str(line_num)] + write_line\n",
    "            write_line[date_ind] = str(datetime.strptime(write_line[date_ind], '%Y-%m-%d'))\n",
    "            write_line[event_ind] = \"CAMEO:\"+write_line[event_ind]\n",
    "            write_line.append(str(is_violent_icews(line[event_index])))\n",
    "            if (write_line.count('') >= 3):\n",
    "                continue\n",
    "            csv_writer.writerow(write_line)\n",
    "            count = count + 1"
   ]
  },
  {
   "cell_type": "code",
   "execution_count": null,
   "metadata": {
    "collapsed": true
   },
   "outputs": [],
   "source": []
  }
 ],
 "metadata": {
  "kernelspec": {
   "display_name": "Python 2",
   "language": "python",
   "name": "python2"
  },
  "language_info": {
   "codemirror_mode": {
    "name": "ipython",
    "version": 2
   },
   "file_extension": ".py",
   "mimetype": "text/x-python",
   "name": "python",
   "nbconvert_exporter": "python",
   "pygments_lexer": "ipython2",
   "version": "2.7.13"
  }
 },
 "nbformat": 4,
 "nbformat_minor": 2
}
