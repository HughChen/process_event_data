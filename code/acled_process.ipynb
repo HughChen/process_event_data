{
 "cells": [
  {
   "cell_type": "markdown",
   "metadata": {},
   "source": [
    "# Process ACLED Data\n",
    "https://www.acleddata.com/wp-content/uploads/2015/01/ACLED_Codebook_2015.pdf"
   ]
  },
  {
   "cell_type": "code",
   "execution_count": 3,
   "metadata": {
    "collapsed": false,
    "scrolled": true
   },
   "outputs": [
    {
     "name": "stdout",
     "output_type": "stream",
     "text": [
      "Current File: ../ACLED/ACLED-Asia-Running-file-January-to-December-2015-V2.csv\n",
      "Header length: 44\n",
      "['GWNO', 'EVENT_ID_CNTY', 'EVENT_ID_NO_CNTY', 'EVENT_DATE', 'YEAR', 'TIME_PRECISION', 'EVENT_TYPE', 'ACTOR1', 'ALLY_ACTOR_1', 'INTER1', 'ACTOR2', 'ALLY_ACTOR_2', 'INTER2', 'INTERACTION', 'COUNTRY', 'ADMIN1', 'ADMIN2', 'ADMIN3', 'LOCATION', 'LATITUDE', 'LONGITUDE', 'GEO_PRECISION', 'SOURCE', 'NOTES', 'FATALITIES', '', '', '', '', '', '', '', '', '', '', '', '', '', '', '', '', '', '', '']\n",
      "EVENT_TYPE\n",
      "Line length: 44\n",
      "['771', '1BNG', '1', '01-January-2015', '2015', '1', 'Riots/Protests', 'Rioters (Bangladesh)', 'AL: Awami League ', '5', 'Rioters (Bangladesh)', 'AL: Awami League ', '5', '55', 'Bangladesh', 'Khulna', '', 'Sharsha', 'Bagachra', '22.95', '88.96', '1', 'United News of\\xa0Bangladesh', 'One person was injured in a gunfight between two groups of the ruling Awami League over taking control of a cattle market at Bagachra in Sharsha upazila of the district on Thursday night. \\rPolice arrested two people along with three bombs from the spot. \\rLater police arrested UP chairman Bakul on the following day.\\rAs a sequel to the enmity, a chase and counter-chase took place between the supporters of Bakul and Abdul Latif in the area around 10:30 pm on Thursday.\\rAt one stage, both the groups exchanged fire during the incident, leaving an unidentified young man injured.\\rAbout 4-5 bombs were exploded in the incident.', '0', '', '', '', '', '', '', '', '', '', '', '', '', '', '', '', '', '', '', '']\n",
      "Riots/Protests\n",
      "\n",
      "\n",
      "Current File: ../ACLED/ACLED-Asia-Running-File-2016.csv\n",
      "Header length: 113\n",
      "['GWNO', 'EVENT_ID_CNTY', 'EVENT_ID_NO_CNTY', 'EVENT_DATE', 'YEAR', 'TIME_PRECISION', 'EVENT_TYPE', 'ACTOR1', 'ALLY_ACTOR_1', 'INTER1', 'ACTOR2', 'ALLY_ACTOR_2', 'INTER2', 'INTERACTION', 'COUNTRY', 'ADMIN1', 'ADMIN2', 'ADMIN3', 'LOCATION', 'LATITUDE', 'LONGITUDE', 'GEO_PRECISION', 'SOURCE', 'NOTES', 'FATALITIES', '', '', '', '', '', '', '', '', '', '', '', '', '', '', '', '', '', '', '', '', '', '', '', '', '', '', '', '', '', '', '', '', '', '', '', '', '', '', '', '', '', '', '', '', '', '', '', '', '', '', '', '', '', '', '', '', '', '', '', '', '', '', '', '', '', '', '', '', '', '', '', '', '', '', '', '', '', '', '', '', '', '', '', '', '', '', '', '']\n",
      "EVENT_TYPE\n",
      "Line length: 113\n",
      "['771', '1BNG', '1', '01-January-2016', '2016', '1', 'Riots/Protests', 'Rioters (Bangladesh)', '', '5', 'Rioters (Bangladesh)', '', '5', '55', 'Bangladesh', 'Khulna', 'Chuadanga', 'Chuadanga Sadar', 'Chuadanga', '23.6441', '88.8477', '1', 'The Financial Express (Bangladesh)', 'At least 14 people, including four women, were injured in a\\xa0clash\\xa0between the supporters of the newly elected councillor and a defeated councillor candidate in ward-7 of Chuadanga municipality on Friday afternoon. police rushed in and brought the situation under control, said officer-in-charge of Chuadanga Sadar Police Station Saiful Islam.', '0', '', '', '', '', '', '', '', '', '', '', '', '', '', '', '', '', '', '', '', '', '', '', '', '', '', '', '', '', '', '', '', '', '', '', '', '', '', '', '', '', '', '', '', '', '', '', '', '', '', '', '', '', '', '', '', '', '', '', '', '', '', '', '', '', '', '', '', '', '', '', '', '', '', '', '', '', '', '', '', '', '', '', '', '', '', '', '', '']\n",
      "Riots/Protests\n",
      "\n",
      "\n",
      "Current File: ../ACLED/ACLED-Version-7-All-Africa-1997-2016_actordyad_csv.csv\n",
      "Header length: 28\n",
      "['GWNO', 'EVENT_ID_CNTY', 'EVENT_ID_NO_CNTY', 'EVENT_DATE', 'YEAR', 'TIME_PRECISION', 'EVENT_TYPE', 'ACTOR1', 'ALLY_ACTOR_1', 'INTER1', 'ACTOR1_ID', 'ACTOR2', 'ALLY_ACTOR_2', 'INTER2', 'ACTOR2_ID', 'INTERACTION', 'ACTOR_DYAD_ID', 'COUNTRY', 'ADMIN1', 'ADMIN2', 'ADMIN3', 'LOCATION', 'LATITUDE', 'LONGITUDE', 'GEO_PRECISION', 'SOURCE', 'NOTES', 'FATALITIES']\n",
      "EVENT_TYPE\n",
      "Line length: 28\n",
      "['615', '16ALG', '16', '01/02/1997', '1997', '1', 'Violence against civilians', 'GIA: Armed Islamic Group', '', '2', '1071', 'Civilians (Algeria)', '', '7', '636', '27', '636-1071', 'Algeria', 'Bordj Bou Arreridj', 'Tixter', '', 'Mechta Larbaa', '36.0466', '5.1317', '1', 'www.algeria-watch.org', '1 February: 7 citizens of a farming estate (Haouch Louz) located in LarbaG (Blida) were killed by an armed group.', '7']\n",
      "Violence against civilians\n",
      "\n",
      "\n"
     ]
    }
   ],
   "source": [
    "# Print header and first line of different files\n",
    "ACLEDPATH = \"../ACLED/\"\n",
    "def print_header_first_line(fname):\n",
    "    print(\"Current File: {0}\".format(fname))\n",
    "    import csv\n",
    "    with open(fname, 'rb') as f:\n",
    "        reader = csv.reader(f, delimiter=\",\")\n",
    "        next_line = next(reader)\n",
    "        print(\"Header length: {0}\".format(len(next_line)))\n",
    "        print(next_line)\n",
    "        print(next_line[6])\n",
    "        next_line = next(reader)\n",
    "        print(\"Line length: {0}\".format(len(next_line)))\n",
    "        print(next_line)\n",
    "        print(next_line[6])\n",
    "    print(\"\\n\")\n",
    "\n",
    "# Test out reading all the asia data\n",
    "# print_header_first_line('{0}ACLED-Asia-Running-File-January-May-2017.csv'.format(ACLEDPATH))\n",
    "print_header_first_line('{0}ACLED-Asia-Running-file-January-to-December-2015-V2.csv'.format(ACLEDPATH))\n",
    "print_header_first_line('{0}ACLED-Asia-Running-File-2016.csv'.format(ACLEDPATH))\n",
    "\n",
    "# Test out reading all the africa data\n",
    "# print_header_first_line('{0}ACLED All Africa File_20170101 to 20170617_csv.csv'.format(ACLEDPATH))\n",
    "print_header_first_line('{0}ACLED-Version-7-All-Africa-1997-2016_actordyad_csv.csv'.format(ACLEDPATH))"
   ]
  },
  {
   "cell_type": "markdown",
   "metadata": {},
   "source": [
    "## Asia Data"
   ]
  },
  {
   "cell_type": "code",
   "execution_count": 4,
   "metadata": {
    "collapsed": false,
    "scrolled": true
   },
   "outputs": [
    {
     "name": "stdout",
     "output_type": "stream",
     "text": [
      "Current File: ../ACLED/ACLED-Asia-Running-File-2016.csv\n",
      "Header length: 113\n",
      "['GWNO', 'EVENT_ID_CNTY', 'EVENT_ID_NO_CNTY', 'EVENT_DATE', 'YEAR', 'TIME_PRECISION', 'EVENT_TYPE', 'ACTOR1', 'ALLY_ACTOR_1', 'INTER1', 'ACTOR2', 'ALLY_ACTOR_2', 'INTER2', 'INTERACTION', 'COUNTRY', 'ADMIN1', 'ADMIN2', 'ADMIN3', 'LOCATION', 'LATITUDE', 'LONGITUDE', 'GEO_PRECISION', 'SOURCE', 'NOTES', 'FATALITIES', '', '', '', '', '', '', '', '', '', '', '', '', '', '', '', '', '', '', '', '', '', '', '', '', '', '', '', '', '', '', '', '', '', '', '', '', '', '', '', '', '', '', '', '', '', '', '', '', '', '', '', '', '', '', '', '', '', '', '', '', '', '', '', '', '', '', '', '', '', '', '', '', '', '', '', '', '', '', '', '', '', '', '', '', '', '', '', '']\n",
      "\n",
      "\n"
     ]
    }
   ],
   "source": [
    "ACLEDPATH = \"../ACLED/\"\n",
    "fname = '{0}ACLED-Asia-Running-file-January-to-December-2015-V2.csv'.format(ACLEDPATH)\n",
    "fname = '{0}ACLED-Asia-Running-File-2016.csv'.format(ACLEDPATH)\n",
    "print(\"Current File: {0}\".format(fname))\n",
    "import csv\n",
    "with open(fname, 'rb') as f:\n",
    "    reader = csv.reader(f, delimiter=\",\")\n",
    "    header = next(reader)\n",
    "    print(\"Header length: {0}\".format(len(header)))\n",
    "    print(header)\n",
    "print(\"\\n\")"
   ]
  },
  {
   "cell_type": "markdown",
   "metadata": {},
   "source": [
    "Location"
   ]
  },
  {
   "cell_type": "code",
   "execution_count": 6,
   "metadata": {
    "collapsed": false
   },
   "outputs": [],
   "source": [
    "[lat_index, long_index, geo_precision] = [header.index(\"LATITUDE\"), \n",
    "                                          header.index(\"LONGITUDE\"), \n",
    "                                          header.index(\"GEO_PRECISION\")]"
   ]
  },
  {
   "cell_type": "markdown",
   "metadata": {},
   "source": [
    "Date\n",
    "\n",
    "Example format: '01-January-2015'"
   ]
  },
  {
   "cell_type": "code",
   "execution_count": 7,
   "metadata": {
    "collapsed": false,
    "scrolled": true
   },
   "outputs": [],
   "source": [
    "[date_index, date_precision] = [header.index(\"EVENT_DATE\"), header.index(\"TIME_PRECISION\")]"
   ]
  },
  {
   "cell_type": "markdown",
   "metadata": {},
   "source": [
    "Description"
   ]
  },
  {
   "cell_type": "code",
   "execution_count": 8,
   "metadata": {
    "collapsed": false
   },
   "outputs": [],
   "source": [
    "[source_ind, source_notes] = [header.index(\"SOURCE\"), header.index(\"NOTES\")]"
   ]
  },
  {
   "cell_type": "markdown",
   "metadata": {},
   "source": [
    "Number of people affected"
   ]
  },
  {
   "cell_type": "code",
   "execution_count": 9,
   "metadata": {
    "collapsed": false
   },
   "outputs": [],
   "source": [
    "aff_index = header.index(\"FATALITIES\")"
   ]
  },
  {
   "cell_type": "markdown",
   "metadata": {},
   "source": [
    "Event Type"
   ]
  },
  {
   "cell_type": "code",
   "execution_count": 10,
   "metadata": {
    "collapsed": false
   },
   "outputs": [],
   "source": [
    "event_index = header.index(\"EVENT_TYPE\")"
   ]
  },
  {
   "cell_type": "markdown",
   "metadata": {},
   "source": [
    "Violent Event - Binary"
   ]
  },
  {
   "cell_type": "code",
   "execution_count": 11,
   "metadata": {
    "collapsed": false
   },
   "outputs": [],
   "source": [
    "fname = '{0}ACLED-Asia-Running-file-January-to-December-2015-V2.csv'.format(ACLEDPATH)\n",
    "import csv\n",
    "counts = dict()\n",
    "with open(fname, 'rb') as f:\n",
    "    reader = csv.reader(f, delimiter=\",\")\n",
    "    for line in reader:\n",
    "        counts[line[event_index]] = counts.get(line[event_index], 0) + 1\n",
    "\n",
    "fname = '{0}ACLED-Asia-Running-File-2016.csv'.format(ACLEDPATH)\n",
    "with open(fname, 'rb') as f:\n",
    "    reader = csv.reader(f, delimiter=\",\")\n",
    "    for line in reader:\n",
    "        counts[line[event_index]] = counts.get(line[event_index], 0) + 1\n",
    "        \n",
    "fname = '{0}ACLED-Version-7-All-Africa-1997-2016_actordyad_csv.csv'.format(ACLEDPATH)\n",
    "with open(fname, 'rb') as f:\n",
    "    reader = csv.reader(f, delimiter=\",\")\n",
    "    for line in reader:\n",
    "        counts[line[event_index]] = counts.get(line[event_index], 0) + 1"
   ]
  },
  {
   "cell_type": "code",
   "execution_count": 12,
   "metadata": {
    "collapsed": false,
    "scrolled": true
   },
   "outputs": [
    {
     "data": {
      "text/plain": [
       "{'Battle-Government regains territory': 2241,\n",
       " 'Battle-Government regains territory ': 1,\n",
       " 'Battle-No change of territory': 40614,\n",
       " 'Battle-Non-state actor overtakes territory': 1974,\n",
       " 'Battle-Non-state actors overtake territory': 1,\n",
       " 'EVENT_TYPE': 3,\n",
       " 'Headquarters or base established': 749,\n",
       " 'Non-violent transfer of territory': 2360,\n",
       " 'RIots/Protests': 10,\n",
       " 'Remote violence': 9370,\n",
       " 'Riots/Protests': 57295,\n",
       " 'Strategic development': 9977,\n",
       " 'Violence Against Civilians': 6,\n",
       " 'Violence against civilians': 40495,\n",
       " 'Violence against civilians ': 44}"
      ]
     },
     "execution_count": 12,
     "metadata": {},
     "output_type": "execute_result"
    }
   ],
   "source": [
    "counts"
   ]
  },
  {
   "cell_type": "code",
   "execution_count": 13,
   "metadata": {
    "collapsed": false
   },
   "outputs": [],
   "source": [
    "violent_events = [\"Battle-Government regains territory\",\n",
    "                  \"Battle-Government regains territory\",\n",
    "                  \"Battle-No change of territory\",\n",
    "                  \"Battle-Non-state actor overtakes territory\",\n",
    "                  \"Battle-Non-state actors overtake territory\",\n",
    "                  \"RIots/Protests\",\n",
    "                  \"Remote violence\",\n",
    "                  \"Riots/Protests\",\n",
    "                  \"Violence Against Civilians\",\n",
    "                  \"Violence against civilians\",\n",
    "                  \"Violence against civilians\"]"
   ]
  },
  {
   "cell_type": "markdown",
   "metadata": {},
   "source": [
    "Violent events are:\n",
    "\n",
    "Battle-Government regains territory\n",
    "\n",
    "Battle-Government regains territory\n",
    "\n",
    "Battle-No change of territory\n",
    "\n",
    "Battle-Non-state actor overtakes territory\n",
    "\n",
    "Battle-Non-state actors overtake territory\n",
    "\n",
    "RIots/Protests\n",
    "\n",
    "Remote violence\n",
    "\n",
    "Riots/Protests\n",
    "\n",
    "Violence Against Civilians\n",
    "\n",
    "Violence against civilians\n",
    "\n",
    "Violence against civilians"
   ]
  },
  {
   "cell_type": "markdown",
   "metadata": {},
   "source": [
    "Write to CSV"
   ]
  },
  {
   "cell_type": "code",
   "execution_count": 31,
   "metadata": {
    "collapsed": false
   },
   "outputs": [
    {
     "name": "stdout",
     "output_type": "stream",
     "text": [
      "\n",
      "\n",
      "0\n",
      "['GWNO', 'EVENT_ID_CNTY', 'EVENT_ID_NO_CNTY', 'EVENT_DATE', 'YEAR', 'TIME_PRECISION', 'EVENT_TYPE', 'ACTOR1', 'ALLY_ACTOR_1', 'INTER1', 'ACTOR2', 'ALLY_ACTOR_2', 'INTER2', 'INTERACTION', 'COUNTRY', 'ADMIN1', 'ADMIN2', 'ADMIN3', 'LOCATION', 'LATITUDE', 'LONGITUDE', 'GEO_PRECISION', 'SOURCE', 'NOTES', 'FATALITIES', '', '', '', '', '', '', '', '', '', '', '', '', '', '', '', '', '', '', '']\n",
      "\n",
      "\n",
      "1\n",
      "['771', '1BNG', '1', '01-January-2015', '2015', '1', 'Riots/Protests', 'Rioters (Bangladesh)', 'AL: Awami League ', '5', 'Rioters (Bangladesh)', 'AL: Awami League ', '5', '55', 'Bangladesh', 'Khulna', '', 'Sharsha', 'Bagachra', '22.95', '88.96', '1', 'United News of\\xa0Bangladesh', 'One person was injured in a gunfight between two groups of the ruling Awami League over taking control of a cattle market at Bagachra in Sharsha upazila of the district on Thursday night. \\rPolice arrested two people along with three bombs from the spot. \\rLater police arrested UP chairman Bakul on the following day.\\rAs a sequel to the enmity, a chase and counter-chase took place between the supporters of Bakul and Abdul Latif in the area around 10:30 pm on Thursday.\\rAt one stage, both the groups exchanged fire during the incident, leaving an unidentified young man injured.\\rAbout 4-5 bombs were exploded in the incident.', '0', '', '', '', '', '', '', '', '', '', '', '', '', '', '', '', '', '', '', '']\n",
      "['22.95', '88.96', '01-January-2015', 'United News of\\xa0Bangladesh', 'One person was injured in a gunfight between two groups of the ruling Awami League over taking control of a cattle market at Bagachra in Sharsha upazila of the district on Thursday night. \\rPolice arrested two people along with three bombs from the spot. \\rLater police arrested UP chairman Bakul on the following day.\\rAs a sequel to the enmity, a chase and counter-chase took place between the supporters of Bakul and Abdul Latif in the area around 10:30 pm on Thursday.\\rAt one stage, both the groups exchanged fire during the incident, leaving an unidentified young man injured.\\rAbout 4-5 bombs were exploded in the incident.', '0', 'Riots/Protests']\n",
      "\n",
      "\n",
      "2\n",
      "['771', '2BNG', '2', '01-January-2015', '2015', '1', 'Riots/Protests', 'Protesters (Bangladesh)', 'JeI: Jamaat-e-Islami', '6', 'Police Forces of Bangladesh', '', '1', '16', 'Bangladesh', 'Dhaka', '', 'Dhaka ', 'Dhaka', '23.42', '90.22', '3', 'The Financial Express (Bangladesh)', 'The last day of the two-day nationwide shutdown enforced by Bangladesh Jamaat-e-Islami passed off in a relaxed mood as a significant number of vehicles and shops come into the business Thursday.\\rDuring the hartal hours, government and non-government offices, business organisations, factories, industries and other functional bodies continued their operations like every other working day ignoring the call of shutdown (hartal).\\rEducational institutions were also found opening their gates as students went to their schools to receive free textbooks defying hartal enforced by the Jamaat protesting death sentence to its senior leader ATM Azharul Islam in a war crimes case.\\rNo major incident was, however, reported during the hartal hours in the city as heavy contingents of police and Rapid Action Battalion members were deployed in different parts of the capital to avert any untoward incident.\\rBesides, plainclothes police with cameras were put on alert at a number of strategic points in the city to identify the troublemakers during the shutdown.\\rThe only reported incident was that the pickets in a brisk procession torched a bus, which was parked in Gabtoli Police Box area at about 10:15am. But no one was hurt in the arson attack as there was no passenger in the vehicle.\\r', '0', '', '', '', '', '', '', '', '', '', '', '', '', '', '', '', '', '', '', '']\n",
      "['23.42', '90.22', '01-January-2015', 'The Financial Express (Bangladesh)', 'The last day of the two-day nationwide shutdown enforced by Bangladesh Jamaat-e-Islami passed off in a relaxed mood as a significant number of vehicles and shops come into the business Thursday.\\rDuring the hartal hours, government and non-government offices, business organisations, factories, industries and other functional bodies continued their operations like every other working day ignoring the call of shutdown (hartal).\\rEducational institutions were also found opening their gates as students went to their schools to receive free textbooks defying hartal enforced by the Jamaat protesting death sentence to its senior leader ATM Azharul Islam in a war crimes case.\\rNo major incident was, however, reported during the hartal hours in the city as heavy contingents of police and Rapid Action Battalion members were deployed in different parts of the capital to avert any untoward incident.\\rBesides, plainclothes police with cameras were put on alert at a number of strategic points in the city to identify the troublemakers during the shutdown.\\rThe only reported incident was that the pickets in a brisk procession torched a bus, which was parked in Gabtoli Police Box area at about 10:15am. But no one was hurt in the arson attack as there was no passenger in the vehicle.\\r', '0', 'Riots/Protests']\n",
      "\n",
      "\n",
      "3\n",
      "['771', '3BNG', '3', '01-January-2015', '2015', '1', 'Riots/Protests', 'Rioters (Bangladesh)', '', '5', 'Rioters (Bangladesh)', '', '5', '55', 'Bangladesh', 'Rangpur', 'Dinajpur ', 'Parbatipur', 'Parbatipur', '25.66', '88.93', '1', 'The New Nation (Bangladesh)', \"A freedom fighter (FF) was killed and four others were injured in an attack allegedly by his rival neighbours in Parbatipur upazila in Dinajpur over the ownership of a disputed land on Thursday night. The deceased, Md Nurul Islam, 68, son of Hezab Uddin of Khagrabond-Paschimpara village of the upazila, was a member of Muktijoddha Sangsad's Parbatipur upazila unit. Police quoted victim's family members as saying that there had been a long standing rivalry between Nurul Islam and two brothers, Ansar Ali and Afsar Ali of the village, over a disputed land. As a sequel of the previous enmity, a group of 20/25 people led by the two brothers went to Nurul's house and started to beat up Nurul and his other family members. At one stage of the beating, Nurul died on the spot.\", '1', '', '', '', '', '', '', '', '', '', '', '', '', '', '', '', '', '', '', '']\n",
      "['25.66', '88.93', '01-January-2015', 'The New Nation (Bangladesh)', \"A freedom fighter (FF) was killed and four others were injured in an attack allegedly by his rival neighbours in Parbatipur upazila in Dinajpur over the ownership of a disputed land on Thursday night. The deceased, Md Nurul Islam, 68, son of Hezab Uddin of Khagrabond-Paschimpara village of the upazila, was a member of Muktijoddha Sangsad's Parbatipur upazila unit. Police quoted victim's family members as saying that there had been a long standing rivalry between Nurul Islam and two brothers, Ansar Ali and Afsar Ali of the village, over a disputed land. As a sequel of the previous enmity, a group of 20/25 people led by the two brothers went to Nurul's house and started to beat up Nurul and his other family members. At one stage of the beating, Nurul died on the spot.\", '1', 'Riots/Protests']\n",
      "\n",
      "\n",
      "4\n",
      "['771', '4BNG', '4', '01-January-2015', '2015', '1', 'Battle-No change of territory', 'Unidentified Communal Group (Bangladesh)', '', '4', 'Police Forces of Bangladesh', '', '1', '14', 'Bangladesh', 'Sylhet  ', '', 'Sunamganj', 'Sunamganj', '25.06', '91.40', '1', 'United News of\\xa0Bangladesh', 'Sunamganj, Jan 2 (UNB) Over 50 people were injured in a clash between two groups of locals over irrigating crops at Baromoha village in South Sunamganj upazila on Friday morning.\\rPolice said an altercation took place on Thursday between the supporters of Shahi Alam Khan and Fazlu Master of the village over irrigating their land in a haor.\\rAs a sequel of the incident, the both groups, equipped with local weapons, were locked in a clash around 9am on Friday.\\rA chase and counter-chase took place during the two-hour long melee that left 50 people injured from the both groups.On information, police rushed in and brought the situation under control.', '0', '', '', '', '', '', '', '', '', '', '', '', '', '', '', '', '', '', '', '']\n",
      "['25.06', '91.40', '01-January-2015', 'United News of\\xa0Bangladesh', 'Sunamganj, Jan 2 (UNB) Over 50 people were injured in a clash between two groups of locals over irrigating crops at Baromoha village in South Sunamganj upazila on Friday morning.\\rPolice said an altercation took place on Thursday between the supporters of Shahi Alam Khan and Fazlu Master of the village over irrigating their land in a haor.\\rAs a sequel of the incident, the both groups, equipped with local weapons, were locked in a clash around 9am on Friday.\\rA chase and counter-chase took place during the two-hour long melee that left 50 people injured from the both groups.On information, police rushed in and brought the situation under control.', '0', 'Battle-No change of territory']\n",
      "\n",
      "\n",
      "5\n",
      "['771', '5BNG', '5', '02-January-2015', '2015', '1', 'Riots/Protests', 'Protesters (Bangladesh)', '', '6', '', '', '0', '60', 'Bangladesh', 'Barisal ', 'Patuakhali', '', 'Patuakhali', '22.33', '90.33', '2', 'United News of\\xa0Bangladesh', \"Bus owners went on a wildcat indefinite transport strike in the district on Friday, protesting the blocking of some Kuakata-bound buses from the district at Amtali by their Barguna counterparts.\\rIn support of the strike, members of Patuakhali Bus Owners' Association laid a blockade at Patuakhali bus stand since 12pm, disrupting road communication on Patuakhali-Barisal, Patuakhali-Kuakata and other internal routes of the district.\\r\", '0', '', '', '', '', '', '', '', '', '', '', '', '', '', '', '', '', '', '', '']\n",
      "['22.33', '90.33', '02-January-2015', 'United News of\\xa0Bangladesh', \"Bus owners went on a wildcat indefinite transport strike in the district on Friday, protesting the blocking of some Kuakata-bound buses from the district at Amtali by their Barguna counterparts.\\rIn support of the strike, members of Patuakhali Bus Owners' Association laid a blockade at Patuakhali bus stand since 12pm, disrupting road communication on Patuakhali-Barisal, Patuakhali-Kuakata and other internal routes of the district.\\r\", '0', 'Riots/Protests']\n",
      "\n",
      "\n",
      "6\n",
      "['771', '6BNG', '6', '02-January-2015', '2015', '1', 'Violence against civilians', 'Unidentified Communal Group (Bangladesh)', '', '4', 'Civilians (Bangladesh)', '', '7', '47', 'Bangladesh', 'Barisal ', 'Barisal', 'Wazirpur', 'Wazirpur', '22.82', '90.24', '1', 'The New Nation (Bangladesh)', 'A school teacher chopped to death at Shikarpur under Wazirpur upazila of Barisal on Friday night. Unidentified assailants ambushed and severely chopped Bipul Chakraborty on the way to home about one kilometer far from the Mandir.Local people rushed to the spot brought him to Wazirpur upazila health complex and he succumbed to injuries there at about 8:30 PM, police sources said. Asim Chakraborty, nephew of the victim, said the victim had some old rivalry over land properties with some locals and that could lead the killing.', '1', '', '', '', '', '', '', '', '', '', '', '', '', '', '', '', '', '', '', '']\n",
      "['22.82', '90.24', '02-January-2015', 'The New Nation (Bangladesh)', 'A school teacher chopped to death at Shikarpur under Wazirpur upazila of Barisal on Friday night. Unidentified assailants ambushed and severely chopped Bipul Chakraborty on the way to home about one kilometer far from the Mandir.Local people rushed to the spot brought him to Wazirpur upazila health complex and he succumbed to injuries there at about 8:30 PM, police sources said. Asim Chakraborty, nephew of the victim, said the victim had some old rivalry over land properties with some locals and that could lead the killing.', '1', 'Violence against civilians']\n",
      "\n",
      "\n",
      "7\n",
      "['771', '7BNG', '7', '03-January-2015', '2015', '1', 'Riots/Protests', 'Rioters (Bangladesh)', 'JDC: Bangladesh Jatiotabadi Chatra Dal', '5', 'Police Forces of Bangladesh', '', '1', '15', 'Bangladesh', 'Sylhet  ', 'Sylhet ', 'Bishwanath', 'Bishwanath', '24.80', '91.76', '1', 'United News of\\xa0Bangladesh', 'At least 10 people were injured in a clash between two factions of Jatiyatabadi Chhatra Dal (JCD) in Bishwanath upazila on Saturday.\\rRafiqul Islam, officer-in-charge of Bishwanath Police Station, said convener of the upazila JCD Matiur Rahman Sumon and convening committee member Shah Amir Uddin had long been at loggerheads over forming the new committee of the unit.\\rA chase and counter-chase took place during the melee that left at least 10 people injured from the both sides. Being informed, police rushed in and bought the situation under control.', '0', '', '', '', '', '', '', '', '', '', '', '', '', '', '', '', '', '', '', '']\n",
      "['24.80', '91.76', '03-January-2015', 'United News of\\xa0Bangladesh', 'At least 10 people were injured in a clash between two factions of Jatiyatabadi Chhatra Dal (JCD) in Bishwanath upazila on Saturday.\\rRafiqul Islam, officer-in-charge of Bishwanath Police Station, said convener of the upazila JCD Matiur Rahman Sumon and convening committee member Shah Amir Uddin had long been at loggerheads over forming the new committee of the unit.\\rA chase and counter-chase took place during the melee that left at least 10 people injured from the both sides. Being informed, police rushed in and bought the situation under control.', '0', 'Riots/Protests']\n",
      "\n",
      "\n",
      "8\n",
      "['771', '8BNG', '8', '03-January-2015', '2015', '1', 'Riots/Protests', 'Protesters (Bangladesh)', 'BJP: Bangladesh Jatiya Party', '6', 'Police Forces of Bangladesh', '', '1', '16', 'Bangladesh', 'Barisal ', 'Bhola', 'Bhola Sadar', 'Bola ', '22.68', '90.64', '1', 'United News of\\xa0Bangladesh', \"Police on Saturday foiled the procession of Bangladesh Jatiya Party (BJP) activists brought out in the district town demanding the withdrawal of a 'false' case against their chairman Andaleeve Rahman Partha.\", '0', '', '', '', '', '', '', '', '', '', '', '', '', '', '', '', '', '', '', '']\n",
      "['22.68', '90.64', '03-January-2015', 'United News of\\xa0Bangladesh', \"Police on Saturday foiled the procession of Bangladesh Jatiya Party (BJP) activists brought out in the district town demanding the withdrawal of a 'false' case against their chairman Andaleeve Rahman Partha.\", '0', 'Riots/Protests']\n",
      "\n",
      "\n",
      "9\n",
      "['771', '9BNG', '9', '03-January-2015', '2015', '1', 'Riots/Protests', 'Protesters (Bangladesh)', '', '6', '', '', '0', '60', 'Bangladesh', 'Barisal ', 'Patuakhali', '', 'Patuakhali', '22.33', '90.33', '2', 'The Financial Express (Bangladesh)', 'The strike by bus owners in Patuakhali district entered its 2nd day on Saturday, augmenting the sufferings of Kuakat-bound passengers and tourists. ', '0', '', '', '', '', '', '', '', '', '', '', '', '', '', '', '', '', '', '', '']\n",
      "['22.33', '90.33', '03-January-2015', 'The Financial Express (Bangladesh)', 'The strike by bus owners in Patuakhali district entered its 2nd day on Saturday, augmenting the sufferings of Kuakat-bound passengers and tourists. ', '0', 'Riots/Protests']\n",
      "\n",
      "\n",
      "10\n",
      "['771', '10BNG', '10', '04-January-2015', '2015', '1', 'Riots/Protests', 'Rioters (Bangladesh)', '', '5', '', '', '0', '50', 'Bangladesh', 'Dhaka', 'Dhaka', 'Savar', 'Ashulia', '23.89', '90.32', '1', 'The Financial Express (Bangladesh)', 'Local people said in separate attacks,unidentified assailants vandalised a good number of vehicles in Ashulia', '0', '', '', '', '', '', '', '', '', '', '', '', '', '', '', '', '', '', '', '']\n",
      "['23.89', '90.32', '04-January-2015', 'The Financial Express (Bangladesh)', 'Local people said in separate attacks,unidentified assailants vandalised a good number of vehicles in Ashulia', '0', 'Riots/Protests']\n",
      "\n",
      "\n",
      "11\n",
      "['771', '11BNG', '11', '04-January-2015', '2015', '1', 'Riots/Protests', 'Rioters (Bangladesh)', 'JL: Jubo League', '5', 'Civilians (Bangladesh)', '', '7', '57', 'Bangladesh', 'Dhaka', 'Dhaka', 'Dhaka', 'Dhaka', '23.42', '90.22', '1', 'The Financial Express (Bangladesh)', \"At least four journalists were injured as activists of Jubo League attacked them in front of the BNP chairperson's Gulshan office on Sunday afternoon. Witnesses said photojournalists and cameramen of different print and electronic media houses were taking photos and footages when police were arresting some BNP men in front of the office. Suddenly, the activists of the ruling Awami League's youth wing swooped on the journalists, apparently to bar them from taking photos and video clips of the arrest. Police played the role of mere spectators during the attack, witnesses said, according to a news agency.\", '0', '', '', '', '', '', '', '', '', '', '', '', '', '', '', '', '', '', '', '']\n",
      "['23.42', '90.22', '04-January-2015', 'The Financial Express (Bangladesh)', \"At least four journalists were injured as activists of Jubo League attacked them in front of the BNP chairperson's Gulshan office on Sunday afternoon. Witnesses said photojournalists and cameramen of different print and electronic media houses were taking photos and footages when police were arresting some BNP men in front of the office. Suddenly, the activists of the ruling Awami League's youth wing swooped on the journalists, apparently to bar them from taking photos and video clips of the arrest. Police played the role of mere spectators during the attack, witnesses said, according to a news agency.\", '0', 'Riots/Protests']\n",
      "\n",
      "\n",
      "12\n",
      "['771', '12BNG', '12', '04-January-2015', '2015', '1', 'Riots/Protests', 'Rioters (Bangladesh)', '', '5', '', '', '0', '50', 'Bangladesh', 'Dhaka', 'Dhaka', 'Dhaka', 'Dhaka', '23.42', '90.22', '1', 'The Financial Express (Bangladesh)', 'Assailants set alight another bus near Baitul Mokarram South Gate around 1:45 pm. Informed, a fire-fighting unit rushed in and put out the blaze. However, there was no report of any causality or injury in the incidents (2nd bus)', '0', '', '', '', '', '', '', '', '', '', '', '', '', '', '', '', '', '', '', '']\n",
      "['23.42', '90.22', '04-January-2015', 'The Financial Express (Bangladesh)', 'Assailants set alight another bus near Baitul Mokarram South Gate around 1:45 pm. Informed, a fire-fighting unit rushed in and put out the blaze. However, there was no report of any causality or injury in the incidents (2nd bus)', '0', 'Riots/Protests']\n",
      "\n",
      "\n",
      "13\n",
      "['771', '13BNG', '13', '04-January-2015', '2015', '1', 'Riots/Protests', 'Rioters (Bangladesh)', 'JDC: Bangladesh Jatiotabadi Chatra Dal', '5', '', '', '0', '50', 'Bangladesh', 'Dhaka', 'Dhaka', 'Dhaka', 'Dhaka', '23.42', '90.22', '1', 'The New Nation (Bangladesh)', \"Over alleged confinement of BNP Chairperson Khaleda Zia, Jatiyatabadi Chhatra Dal (JCD) leaders and activists vandalised more than fifty vehicles at Banglamotor area in the capital. The incident took place at the area at around 2.30 pm on Sunday when the JCD leaders and activists brought out a rally protesting their chairperson's confinement ahead of their Mondays' programme. Dozens of cocktails have also been blasted in the area at that time. \", '0', '', '', '', '', '', '', '', '', '', '', '', '', '', '', '', '', '', '', '']\n",
      "['23.42', '90.22', '04-January-2015', 'The New Nation (Bangladesh)', \"Over alleged confinement of BNP Chairperson Khaleda Zia, Jatiyatabadi Chhatra Dal (JCD) leaders and activists vandalised more than fifty vehicles at Banglamotor area in the capital. The incident took place at the area at around 2.30 pm on Sunday when the JCD leaders and activists brought out a rally protesting their chairperson's confinement ahead of their Mondays' programme. Dozens of cocktails have also been blasted in the area at that time. \", '0', 'Riots/Protests']\n",
      "\n",
      "\n",
      "14\n",
      "['771', '14BNG', '14', '04-January-2015', '2015', '1', 'Riots/Protests', 'Rioters (Bangladesh)', '', '5', '', '', '0', '50', 'Bangladesh', 'Dhaka', 'Dhaka', 'Dhaka', 'Dhaka', '23.42', '90.22', '1', 'The Financial Express (Bangladesh)', \"Two buses were set afire at different parts of the capital amid the growing political tension ahead of the BNP-led 20-party's January-5 rally on Sunday. According to the Fire Service Control room, assailants set fire to a bus near Motijheel AGB Colony around 2:10 pm. (1st bus) \", '0', '', '', '', '', '', '', '', '', '', '', '', '', '', '', '', '', '', '', '']\n",
      "['23.42', '90.22', '04-January-2015', 'The Financial Express (Bangladesh)', \"Two buses were set afire at different parts of the capital amid the growing political tension ahead of the BNP-led 20-party's January-5 rally on Sunday. According to the Fire Service Control room, assailants set fire to a bus near Motijheel AGB Colony around 2:10 pm. (1st bus) \", '0', 'Riots/Protests']\n",
      "\n",
      "\n",
      "15\n",
      "['771', '15BNG', '15', '04-January-2015', '2015', '1', 'Riots/Protests', 'Rioters (Bangladesh)', '', '5', '', '', '0', '50', 'Bangladesh', 'Dhaka', 'Dhaka', 'Dhaka', 'Hatirpool', '23.74', '90.38', '1', 'United News of\\xa0Bangladesh', 'A rickshaw-puller suffered burn injuries as two crude bombs were blasted at Hatirpool in the afternoon. The injured is Nurul Islam, 50, of the area.Police said the crude bombs were blasted in front of Easter Plaza shopping complex around 3pm. Nurul who came out of his house to buy medicine for his ailing mother sustained injuries in the blast.', '0', '', '', '', '', '', '', '', '', '', '', '', '', '', '', '', '', '', '', '']\n",
      "['23.74', '90.38', '04-January-2015', 'United News of\\xa0Bangladesh', 'A rickshaw-puller suffered burn injuries as two crude bombs were blasted at Hatirpool in the afternoon. The injured is Nurul Islam, 50, of the area.Police said the crude bombs were blasted in front of Easter Plaza shopping complex around 3pm. Nurul who came out of his house to buy medicine for his ailing mother sustained injuries in the blast.', '0', 'Riots/Protests']\n",
      "\n",
      "\n",
      "16\n",
      "['771', '16BNG', '16', '04-January-2015', '2015', '1', 'Violence against civilians', 'Unidentified Armed Group (Bangladesh)', '', '3', 'Civilians (Bangladesh)', 'BKL: Bangladesh Krishak League', '7', '37', 'Bangladesh', 'Dhaka', 'Dhaka', 'Dhaka', 'Lalbagh', '23.42', '90.22', '1', 'The New Nation (Bangladesh)', \"An activist of Bangladesh  Krishak League was killed and six others were injured in a bomb attack during an arbitration meeting in presence of lawmaker Haji Mohammed Selim, MP, in the city's Lalbagh area on Sunday afternoon. The deceased has been identified as Idris Mia, 35, an activist of the Krishak League ruling party's peasant front. Injured Monir Hossain, 35, Mujibur Rahman, 40, Moslem Uddin, 30, Nuruzzaman, 30, and Md Nizam, 31 had been admitted to the Dhaka Medical College and Hospital (DMCH). \", '1', '', '', '', '', '', '', '', '', '', '', '', '', '', '', '', '', '', '', '']\n",
      "['23.42', '90.22', '04-January-2015', 'The New Nation (Bangladesh)', \"An activist of Bangladesh  Krishak League was killed and six others were injured in a bomb attack during an arbitration meeting in presence of lawmaker Haji Mohammed Selim, MP, in the city's Lalbagh area on Sunday afternoon. The deceased has been identified as Idris Mia, 35, an activist of the Krishak League ruling party's peasant front. Injured Monir Hossain, 35, Mujibur Rahman, 40, Moslem Uddin, 30, Nuruzzaman, 30, and Md Nizam, 31 had been admitted to the Dhaka Medical College and Hospital (DMCH). \", '1', 'Violence against civilians']\n",
      "\n",
      "\n",
      "17\n",
      "['771', '17BNG', '17', '04-January-2015', '2015', '1', 'Remote violence', 'Unidentified Armed Group (Bangladesh)', '', '3', '', '', '0', '30', 'Bangladesh', 'Dhaka', 'Dhaka', 'Dhaka', 'Paltan', '23.73', '90.41', '1', 'United News of\\xa0Bangladesh', 'Two bombs went off near Paltan Jam-e Mosque around 7:40pm. However, no injury was reported in the incident.', '0', '', '', '', '', '', '', '', '', '', '', '', '', '', '', '', '', '', '', '']\n",
      "['23.73', '90.41', '04-January-2015', 'United News of\\xa0Bangladesh', 'Two bombs went off near Paltan Jam-e Mosque around 7:40pm. However, no injury was reported in the incident.', '0', 'Remote violence']\n",
      "\n",
      "\n",
      "18\n",
      "['771', '18BNG', '18', '04-January-2015', '2015', '1', 'Riots/Protests', 'Rioters (Bangladesh)', '', '5', '', '', '0', '50', 'Bangladesh', 'Dhaka', 'Dhaka', 'Savar', 'Savar', '23.84', '90.25', '1', 'The Financial Express (Bangladesh)', 'At least five busses have been vandalised and two more were set on fire on Sunday night at different parts of Savar Upazila of Dhaka district. ', '0', '', '', '', '', '', '', '', '', '', '', '', '', '', '', '', '', '', '', '']\n",
      "['23.84', '90.25', '04-January-2015', 'The Financial Express (Bangladesh)', 'At least five busses have been vandalised and two more were set on fire on Sunday night at different parts of Savar Upazila of Dhaka district. ', '0', 'Riots/Protests']\n",
      "\n",
      "\n",
      "19\n",
      "['771', '19BNG', '19', '04-January-2015', '2015', '1', 'Riots/Protests', 'Rioters (Bangladesh)', '', '5', '', '', '0', '50', 'Bangladesh', 'Dhaka', 'Dhaka', 'Savar', 'Savar', '23.84', '90.25', '1', 'The Financial Express (Bangladesh)', 'two more buses were set on fire in front of thana Awami League office at Savar Bus Stand and in front of Jahangirnagar University.', '0', '', '', '', '', '', '', '', '', '', '', '', '', '', '', '', '', '', '', '']\n",
      "['23.84', '90.25', '04-January-2015', 'The Financial Express (Bangladesh)', 'two more buses were set on fire in front of thana Awami League office at Savar Bus Stand and in front of Jahangirnagar University.', '0', 'Riots/Protests']\n",
      "\n",
      "\n",
      "20\n",
      "['771', '20BNG', '20', '04-January-2015', '2015', '1', 'Riots/Protests', 'Rioters (Bangladesh)', 'BCL: Bangladesh Chhatra League', '5', 'Rioters (Bangladesh)', 'BCL: Bangladesh Chhatra League', '5', '55', 'Bangladesh', 'Sylhet  ', 'Sylhet ', 'Sylhet Sadar ', 'Sylhet', '24.89', '91.86', '1', 'United News of\\xa0Bangladesh', 'At least ten Bangladesh Chhatra League (BCL) activists were injured in a clash between two factions of its Sylhet Agricultural University (SAU) unit over occupying hall seats on Sunday night. \\rAn altercation ensued between the followers of university unit president Shamim Mollah and the followers of its general secretary Ritwik Deb cover occupying hall seats at Banghabandhu Hall around 10pm.\\rFollowing the incident, both the groups, equipped with sharp weapons, attacked each other, leaving 10 people injured from both sides.\\r', '0', '', '', '', '', '', '', '', '', '', '', '', '', '', '', '', '', '', '', '']\n",
      "['24.89', '91.86', '04-January-2015', 'United News of\\xa0Bangladesh', 'At least ten Bangladesh Chhatra League (BCL) activists were injured in a clash between two factions of its Sylhet Agricultural University (SAU) unit over occupying hall seats on Sunday night. \\rAn altercation ensued between the followers of university unit president Shamim Mollah and the followers of its general secretary Ritwik Deb cover occupying hall seats at Banghabandhu Hall around 10pm.\\rFollowing the incident, both the groups, equipped with sharp weapons, attacked each other, leaving 10 people injured from both sides.\\r', '0', 'Riots/Protests']\n",
      "\n",
      "\n",
      "21\n",
      "['771', '21BNG', '21', '05-January-2015', '2015', '1', 'Riots/Protests', 'Rioters (Bangladesh)', 'BNP: Bangladesh Nationalist Party', '5', 'Police Forces of Bangladesh', '', '1', '15', 'Bangladesh', 'Dhaka', 'Narayanganj', 'Bandar', 'Bandar', '23.61', '90.53', '1', 'The Financial Express (Bangladesh)', 'Monday, 5 January: In Narayanganj, at least 20 people, including 10 with bullets, were injured in a clash between the activists of BNP and police in Bandar upazila in the morning.', '0', '', '', '', '', '', '', '', '', '', '', '', '', '', '', '', '', '', '', '']\n"
     ]
    }
   ],
   "source": [
    "fname = '{0}ACLED-Asia-Running-file-January-to-December-2015-V2.csv'.format(ACLEDPATH)\n",
    "write_header = [\"latitude\", \"longitude\", \"date\", \"source\", \"description\", \"num_affected\", \"event_type\", \"violent\"]\n",
    "indices = [lat_index, long_index, date_index, source_ind, source_notes, aff_index, event_index]\n",
    "import csv\n",
    "csv_writer = csv.writer(open('sample_out.csv', 'w'))\n",
    "DATE_IND = 2\n",
    "\n",
    "with open('sample_out.csv', 'w') as write_file:\n",
    "    csv_writer = csv.writer(write_file)\n",
    "    csv_writer.writerow(write_header)\n",
    "    with open(fname, 'rb') as f:\n",
    "        reader = csv.reader(f, delimiter=\",\")\n",
    "        count = 0\n",
    "        for line in reader:\n",
    "            print('\\n')\n",
    "            print(count)\n",
    "            print(line)\n",
    "            if (count == 0):\n",
    "                count = count + 1\n",
    "                continue\n",
    "            if (count > 20):\n",
    "                break\n",
    "            count = count + 1\n",
    "            write_line = [line[index] for index in indices]\n",
    "            print(write_line)\n",
    "            write_line[DATE_IND] = str(datetime.strptime(write_line[DATE_IND], '%d-%B-%Y'))\n",
    "            write_line.append(str(line[event_index] in violent_events))\n",
    "            csv_writer.writerow(write_line)"
   ]
  },
  {
   "cell_type": "code",
   "execution_count": 29,
   "metadata": {
    "collapsed": false,
    "scrolled": true
   },
   "outputs": [
    {
     "data": {
      "text/plain": [
       "['24.89',\n",
       " '91.86',\n",
       " '2015-01-04 00:00:00',\n",
       " 'United News of\\xa0Bangladesh',\n",
       " 'At least ten Bangladesh Chhatra League (BCL) activists were injured in a clash between two factions of its Sylhet Agricultural University (SAU) unit over occupying hall seats on Sunday night. \\rAn altercation ensued between the followers of university unit president Shamim Mollah and the followers of its general secretary Ritwik Deb cover occupying hall seats at Banghabandhu Hall around 10pm.\\rFollowing the incident, both the groups, equipped with sharp weapons, attacked each other, leaving 10 people injured from both sides.\\r',\n",
       " '0',\n",
       " 'Riots/Protests',\n",
       " 'True']"
      ]
     },
     "execution_count": 29,
     "metadata": {},
     "output_type": "execute_result"
    }
   ],
   "source": [
    "write_line"
   ]
  },
  {
   "cell_type": "code",
   "execution_count": 16,
   "metadata": {
    "collapsed": false
   },
   "outputs": [
    {
     "data": {
      "text/plain": [
       "'04-January-2015'"
      ]
     },
     "execution_count": 16,
     "metadata": {},
     "output_type": "execute_result"
    }
   ],
   "source": [
    "write_line[2]"
   ]
  },
  {
   "cell_type": "code",
   "execution_count": 21,
   "metadata": {
    "collapsed": false
   },
   "outputs": [
    {
     "data": {
      "text/plain": [
       "'2015-01-04 00:00:00'"
      ]
     },
     "execution_count": 21,
     "metadata": {},
     "output_type": "execute_result"
    }
   ],
   "source": [
    "from datetime import datetime\n",
    "str(datetime.strptime('04-January-2015', '%d-%B-%Y'))"
   ]
  },
  {
   "cell_type": "code",
   "execution_count": null,
   "metadata": {
    "collapsed": true
   },
   "outputs": [],
   "source": []
  }
 ],
 "metadata": {
  "kernelspec": {
   "display_name": "Python 2",
   "language": "python",
   "name": "python2"
  },
  "language_info": {
   "codemirror_mode": {
    "name": "ipython",
    "version": 2
   },
   "file_extension": ".py",
   "mimetype": "text/x-python",
   "name": "python",
   "nbconvert_exporter": "python",
   "pygments_lexer": "ipython2",
   "version": "2.7.13"
  }
 },
 "nbformat": 4,
 "nbformat_minor": 2
}
