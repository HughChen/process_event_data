{
 "cells": [
  {
   "cell_type": "markdown",
   "metadata": {},
   "source": [
    "# Process ICEWS Data\n",
    "https://www.acleddata.com/wp-content/uploads/2015/01/ACLED_Codebook_2015.pdf"
   ]
  },
  {
   "cell_type": "code",
   "execution_count": 20,
   "metadata": {
    "collapsed": false,
    "scrolled": true
   },
   "outputs": [
    {
     "name": "stdout",
     "output_type": "stream",
     "text": [
      "Current File: ../ICEWS/events.2016.20170615135114.tab\n",
      "Header length: 20\n",
      "['Event ID', 'Event Date', 'Source Name', 'Source Sectors', 'Source Country', 'Event Text', 'CAMEO Code', 'Intensity', 'Target Name', 'Target Sectors', 'Target Country', 'Story ID', 'Sentence Number', 'Publisher', 'City', 'District', 'Province', 'Country', 'Latitude', 'Longitude']\n",
      "Line length: 20\n",
      "['25777365', '2016-01-01', 'Government (Sudan)', 'Government', 'Sudan', 'Praise or endorse', '051', '3.4', 'Political Parties (Sudan)', 'Parties', 'Sudan', '39981043', '3', 'BBC Monitoring Newsfile', '', '', '', 'Sudan', '15.5466', '32.5336']\n",
      "\n",
      "\n"
     ]
    }
   ],
   "source": [
    "# ICEWS Script\n",
    "# Test out reading \n",
    "import csv\n",
    "ICEWSPATH = \"../ICEWS/\"\n",
    "def print_header_first_line(fname):\n",
    "    print(\"Current File: {0}\".format(fname))\n",
    "    with open(fname, 'rb') as f:\n",
    "        reader = csv.reader(f, delimiter=\"\\t\")\n",
    "        next_line = next(reader)\n",
    "        print(\"Header length: {0}\".format(len(next_line)))\n",
    "        print(next_line)\n",
    "        next_line = next(reader)\n",
    "        print(\"Line length: {0}\".format(len(next_line)))\n",
    "        print(next_line)\n",
    "    print(\"\\n\")\n",
    "\n",
    "print_header_first_line('{0}events.2016.20170615135114.tab'.format(ICEWSPATH))"
   ]
  },
  {
   "cell_type": "markdown",
   "metadata": {},
   "source": [
    "## Asia Data"
   ]
  },
  {
   "cell_type": "code",
   "execution_count": 21,
   "metadata": {
    "collapsed": false
   },
   "outputs": [
    {
     "name": "stdout",
     "output_type": "stream",
     "text": [
      "Header length: 20\n",
      "['Event ID', 'Event Date', 'Source Name', 'Source Sectors', 'Source Country', 'Event Text', 'CAMEO Code', 'Intensity', 'Target Name', 'Target Sectors', 'Target Country', 'Story ID', 'Sentence Number', 'Publisher', 'City', 'District', 'Province', 'Country', 'Latitude', 'Longitude']\n"
     ]
    }
   ],
   "source": [
    "# Load header\n",
    "import csv\n",
    "fname = '{0}events.2016.20170615135114.tab'.format(ICEWSPATH)\n",
    "with open(fname, 'rb') as f:\n",
    "    reader = csv.reader(f, delimiter=\"\\t\")\n",
    "    header = next(reader)\n",
    "    print(\"Header length: {0}\".format(len(header)))\n",
    "    print(header)"
   ]
  },
  {
   "cell_type": "markdown",
   "metadata": {},
   "source": [
    "Location"
   ]
  },
  {
   "cell_type": "code",
   "execution_count": 32,
   "metadata": {
    "collapsed": false
   },
   "outputs": [],
   "source": [
    "lat_index, long_index = [header.index(\"Latitude\"), header.index(\"Longitude\")]"
   ]
  },
  {
   "cell_type": "markdown",
   "metadata": {},
   "source": [
    "Date"
   ]
  },
  {
   "cell_type": "code",
   "execution_count": 33,
   "metadata": {
    "collapsed": false,
    "scrolled": false
   },
   "outputs": [],
   "source": [
    "date_index = header.index(\"Event Date\")"
   ]
  },
  {
   "cell_type": "markdown",
   "metadata": {},
   "source": [
    "Description and source"
   ]
  },
  {
   "cell_type": "code",
   "execution_count": 42,
   "metadata": {
    "collapsed": false,
    "scrolled": false
   },
   "outputs": [],
   "source": [
    "source_ind, source_notes = [header.index(\"Publisher\"), header.index(\"Event Text\")]"
   ]
  },
  {
   "cell_type": "markdown",
   "metadata": {},
   "source": [
    "Number of people affected\n",
    "\n",
    "No obvious surrogate in this dataset - Maybe intensity?"
   ]
  },
  {
   "cell_type": "code",
   "execution_count": 27,
   "metadata": {
    "collapsed": false
   },
   "outputs": [
    {
     "data": {
      "text/plain": [
       "7"
      ]
     },
     "execution_count": 27,
     "metadata": {},
     "output_type": "execute_result"
    }
   ],
   "source": [
    "header.index(\"Intensity\")"
   ]
  },
  {
   "cell_type": "markdown",
   "metadata": {},
   "source": [
    "Event Type"
   ]
  },
  {
   "cell_type": "code",
   "execution_count": 35,
   "metadata": {
    "collapsed": false
   },
   "outputs": [],
   "source": [
    "event_index = header.index(\"CAMEO Code\")"
   ]
  },
  {
   "cell_type": "markdown",
   "metadata": {},
   "source": [
    "Violent Event - Binary\n",
    "\n",
    "18 - ASSAULT\n",
    "\n",
    "19 - FIGHT\n",
    "\n",
    "20 - UNCONVENTIONAL MASS VIOLENCE\n",
    "\n",
    "Count different types of events - simply select the ones with violent prefixed"
   ]
  },
  {
   "cell_type": "code",
   "execution_count": 29,
   "metadata": {
    "collapsed": false
   },
   "outputs": [],
   "source": [
    "fname = '{0}events.2016.20170615135114.tab'.format(ICEWSPATH)\n",
    "import csv\n",
    "counts = dict()\n",
    "with open(fname, 'rb') as f:\n",
    "    reader = csv.reader(f, delimiter=\"\\t\")\n",
    "    for line in reader:\n",
    "        counts[line[event_index]] = counts.get(line[event_index], 0) + 1"
   ]
  },
  {
   "cell_type": "code",
   "execution_count": 36,
   "metadata": {
    "collapsed": false
   },
   "outputs": [
    {
     "data": {
      "text/plain": [
       "[('126', 8),\n",
       " ('090', 3733),\n",
       " ('091', 220),\n",
       " ('0231', 65),\n",
       " ('127', 234),\n",
       " ('094', 10),\n",
       " ('0812', 4),\n",
       " ('010', 57069),\n",
       " ('011', 87),\n",
       " ('131', 37),\n",
       " ('013', 2350),\n",
       " ('0831', 79),\n",
       " ('015', 405),\n",
       " ('016', 798),\n",
       " ('017', 1483),\n",
       " ('018', 1072),\n",
       " ('019', 280),\n",
       " ('139', 196),\n",
       " ('138', 924),\n",
       " ('014', 459)]"
      ]
     },
     "execution_count": 36,
     "metadata": {},
     "output_type": "execute_result"
    }
   ],
   "source": [
    "from itertools import islice\n",
    "\n",
    "def take(n, iterable):\n",
    "    \"Return first n items of the iterable as a list\"\n",
    "    return list(islice(iterable, n))\n",
    "take(20, counts.iteritems()) # Print subset"
   ]
  },
  {
   "cell_type": "code",
   "execution_count": 43,
   "metadata": {
    "collapsed": true
   },
   "outputs": [],
   "source": [
    "def is_violent(event_code):\n",
    "    if (event_code.startswith(\"18\") or event_code.startswith(\"19\") or event_code.startswith(\"20\")):\n",
    "        return True\n",
    "    else:\n",
    "        return False"
   ]
  },
  {
   "cell_type": "code",
   "execution_count": 45,
   "metadata": {
    "collapsed": false
   },
   "outputs": [],
   "source": [
    "fname = '{0}events.2016.20170615135114.tab'.format(ICEWSPATH)\n",
    "indices = [lat_index, long_index, date_index, source_ind, source_notes, -1, event_index]\n",
    "import csv\n",
    "csv_writer = csv.writer(open('sample_out.csv', 'a'))\n",
    "with open(fname, 'rb') as f:\n",
    "    reader = csv.reader(f, delimiter=\"\\t\")\n",
    "    count = 0\n",
    "    for line in reader:\n",
    "        if (count == 0):\n",
    "            count = count + 1\n",
    "            continue\n",
    "        if (count > 20):\n",
    "            break\n",
    "        count = count + 1\n",
    "        write_line = [line[index] if index is not -1 else 'NA' for index in indices]\n",
    "        write_line.append(str(is_violent(line[event_index])))\n",
    "        csv_writer.writerow(write_line)"
   ]
  },
  {
   "cell_type": "code",
   "execution_count": null,
   "metadata": {
    "collapsed": true
   },
   "outputs": [],
   "source": []
  }
 ],
 "metadata": {
  "kernelspec": {
   "display_name": "Python 2",
   "language": "python",
   "name": "python2"
  },
  "language_info": {
   "codemirror_mode": {
    "name": "ipython",
    "version": 2
   },
   "file_extension": ".py",
   "mimetype": "text/x-python",
   "name": "python",
   "nbconvert_exporter": "python",
   "pygments_lexer": "ipython2",
   "version": "2.7.13"
  }
 },
 "nbformat": 4,
 "nbformat_minor": 2
}
