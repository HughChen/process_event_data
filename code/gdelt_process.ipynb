{
 "cells": [
  {
   "cell_type": "markdown",
   "metadata": {},
   "source": [
    "# Process GDELT Data\n",
    "https://www.acleddata.com/wp-content/uploads/2015/01/ACLED_Codebook_2015.pdf"
   ]
  },
  {
   "cell_type": "code",
   "execution_count": 2,
   "metadata": {
    "collapsed": false,
    "scrolled": true
   },
   "outputs": [
    {
     "name": "stdout",
     "output_type": "stream",
     "text": [
      "\n",
      "\n",
      "Header length: 58\n",
      "['GLOBALEVENTID', 'SQLDATE', 'MonthYear', 'Year', 'FractionDate', 'Actor1Code', 'Actor1Name', 'Actor1CountryCode', 'Actor1KnownGroupCode', 'Actor1EthnicCode', 'Actor1Religion1Code', 'Actor1Religion2Code', 'Actor1Type1Code', 'Actor1Type2Code', 'Actor1Type3Code', 'Actor2Code', 'Actor2Name', 'Actor2CountryCode', 'Actor2KnownGroupCode', 'Actor2EthnicCode', 'Actor2Religion1Code', 'Actor2Religion2Code', 'Actor2Type1Code', 'Actor2Type2Code', 'Actor2Type3Code', 'IsRootEvent', 'EventCode', 'EventBaseCode', 'EventRootCode', 'QuadClass', 'GoldsteinScale', 'NumMentions', 'NumSources', 'NumArticles', 'AvgTone', 'Actor1Geo_Type', 'Actor1Geo_FullName', 'Actor1Geo_CountryCode', 'Actor1Geo_ADM1Code', 'Actor1Geo_Lat', 'Actor1Geo_Long', 'Actor1Geo_FeatureID', 'Actor2Geo_Type', 'Actor2Geo_FullName', 'Actor2Geo_CountryCode', 'Actor2Geo_ADM1Code', 'Actor2Geo_Lat', 'Actor2Geo_Long', 'Actor2Geo_FeatureID', 'ActionGeo_Type', 'ActionGeo_FullName', 'ActionGeo_CountryCode', 'ActionGeo_ADM1Code', 'ActionGeo_Lat', 'ActionGeo_Long', 'ActionGeo_FeatureID', 'DATEADDED', 'SOURCEURL']\n",
      "Line length: 58\n",
      "['281451675', '20040104', '200401', '2004', '2004.0110', '', '', '', '', '', '', '', '', '', '', 'GOV', 'GOVERNMENT', '', '', '', '', '', 'GOV', '', '', '1', '030', '030', '03', '1', '4.0', '10', '1', '10', '2.04498977505112', '0', '', '', '', '', '', '', '1', 'Germany', 'GM', 'GM', '51', '9', 'GM', '1', 'Germany', 'GM', 'GM', '51', '9', 'GM', '20140101', 'http://www.bankinfosecurity.com/nsa-reacts-to-report-on-device-hacking-a-6328']\n",
      "Line length: 58\n",
      "['281451675', '20040104', '200401', '2004', '2004.0110', '', '', '', '', '', '', '', '', '', '', 'GOV', 'GOVERNMENT', '', '', '', '', '', 'GOV', '', '', '1', '030', '030', '03', '1', '4.0', '10', '1', '10', '2.04498977505112', '0', '', '', '', '', '', '', '1', 'Germany', 'GM', 'GM', '51', '9', 'GM', '1', 'Germany', 'GM', 'GM', '51', '9', 'GM', '20140101', 'http://www.bankinfosecurity.com/nsa-reacts-to-report-on-device-hacking-a-6328']\n"
     ]
    }
   ],
   "source": [
    "# GDELT Script\n",
    "# Read the headers\n",
    "GDELTPATH = \"../GDELT/\"\n",
    "print(\"\\n\")\n",
    "f = open(\"{0}CSV.header.dailyupdates.txt\".format(GDELTPATH),\"r\") \n",
    "header = f.readline().split('\\t')\n",
    "print(\"Header length: {0}\".format(len(header)))\n",
    "print(header)\n",
    "f.close()\n",
    "\n",
    "# Read the first two lines\n",
    "import csv\n",
    "with open('{0}events/20140101.export.csv'.format(GDELTPATH), 'rb') as f:\n",
    "    reader = csv.reader(f, delimiter=\"\\t\")\n",
    "    next_line = next(reader)\n",
    "    print(\"Line length: {0}\".format(len(next_line)))\n",
    "    print(next_line)\n",
    "    print(\"Line length: {0}\".format(len(next_line)))\n",
    "    print(next_line)"
   ]
  },
  {
   "cell_type": "markdown",
   "metadata": {},
   "source": [
    "## Asia Data"
   ]
  },
  {
   "cell_type": "markdown",
   "metadata": {},
   "source": [
    "Location"
   ]
  },
  {
   "cell_type": "code",
   "execution_count": 26,
   "metadata": {
    "collapsed": false,
    "scrolled": true
   },
   "outputs": [],
   "source": [
    "lat_index, long_index = [header.index(\"Actor1Geo_Lat\"), header.index(\"Actor1Geo_Long\")]"
   ]
  },
  {
   "cell_type": "markdown",
   "metadata": {},
   "source": [
    "Date\n",
    "\n",
    "Example format: '20040104'"
   ]
  },
  {
   "cell_type": "code",
   "execution_count": 31,
   "metadata": {
    "collapsed": false,
    "scrolled": true
   },
   "outputs": [],
   "source": [
    "date_index = header.index(\"SQLDATE\")"
   ]
  },
  {
   "cell_type": "markdown",
   "metadata": {},
   "source": [
    "Description\n",
    "\n",
    "They don't have a description - instead they have NumMentions, NumSources, NumArticles, and AvgTone"
   ]
  },
  {
   "cell_type": "code",
   "execution_count": 9,
   "metadata": {
    "collapsed": false,
    "scrolled": false
   },
   "outputs": [
    {
     "data": {
      "text/plain": [
       "[31, 34]"
      ]
     },
     "execution_count": 9,
     "metadata": {},
     "output_type": "execute_result"
    }
   ],
   "source": [
    "[header.index(\"NumMentions\"), header.index(\"AvgTone\")]"
   ]
  },
  {
   "cell_type": "markdown",
   "metadata": {},
   "source": [
    "Number of people affected\n",
    "\n",
    "No obvious surrogate in this dataset"
   ]
  },
  {
   "cell_type": "code",
   "execution_count": 11,
   "metadata": {
    "collapsed": false
   },
   "outputs": [],
   "source": [
    "# "
   ]
  },
  {
   "cell_type": "markdown",
   "metadata": {},
   "source": [
    "Event Type\n",
    "\n",
    "CAMEO Code\n",
    "\n",
    "http://data.gdeltproject.org/documentation/CAMEO.Manual.1.1b3.pdf"
   ]
  },
  {
   "cell_type": "code",
   "execution_count": 28,
   "metadata": {
    "collapsed": false
   },
   "outputs": [],
   "source": [
    "event_index = header.index(\"EventCode\")"
   ]
  },
  {
   "cell_type": "markdown",
   "metadata": {},
   "source": [
    "Violent Event - Binary\n",
    "\n",
    "18 - ASSAULT\n",
    "\n",
    "19 - FIGHT\n",
    "\n",
    "20 - UNCONVENTIONAL MASS VIOLENCE\n",
    "\n",
    "Count different types of events - simply select the ones with violent prefixed"
   ]
  },
  {
   "cell_type": "code",
   "execution_count": 18,
   "metadata": {
    "collapsed": false
   },
   "outputs": [],
   "source": [
    "fname = '{0}events/20140101.export.csv'.format(GDELTPATH)\n",
    "import csv\n",
    "counts = dict()\n",
    "with open(fname, 'rb') as f:\n",
    "    reader = csv.reader(f, delimiter=\"\\t\")\n",
    "    for line in reader:\n",
    "        counts[line[event_index]] = counts.get(line[event_index], 0) + 1"
   ]
  },
  {
   "cell_type": "code",
   "execution_count": 25,
   "metadata": {
    "collapsed": false,
    "scrolled": false
   },
   "outputs": [
    {
     "data": {
      "text/plain": [
       "[('090', 1587),\n",
       " ('091', 11),\n",
       " ('0231', 98),\n",
       " ('127', 12),\n",
       " ('094', 4),\n",
       " ('0234', 18),\n",
       " ('010', 5578),\n",
       " ('011', 107),\n",
       " ('012', 1192),\n",
       " ('013', 1619),\n",
       " ('0831', 179),\n",
       " ('015', 257),\n",
       " ('016', 177),\n",
       " ('017', 429),\n",
       " ('018', 166),\n",
       " ('019', 6),\n",
       " ('139', 39),\n",
       " ('138', 180),\n",
       " ('0871', 49),\n",
       " ('1832', 35)]"
      ]
     },
     "execution_count": 25,
     "metadata": {},
     "output_type": "execute_result"
    }
   ],
   "source": [
    "from itertools import islice\n",
    "\n",
    "def take(n, iterable):\n",
    "    \"Return first n items of the iterable as a list\"\n",
    "    return list(islice(iterable, n))\n",
    "take(20, counts.iteritems()) # Print subset"
   ]
  },
  {
   "cell_type": "code",
   "execution_count": null,
   "metadata": {
    "collapsed": true
   },
   "outputs": [],
   "source": [
    "def is_violent(event_code):\n",
    "    if (event_code.startswith(\"18\") or event_code.startswith(\"19\") or event_code.startswith(\"20\")):\n",
    "        return True\n",
    "    else:\n",
    "        return False"
   ]
  },
  {
   "cell_type": "code",
   "execution_count": 61,
   "metadata": {
    "collapsed": false
   },
   "outputs": [],
   "source": [
    "fname = '{0}events/20140101.export.csv'.format(GDELTPATH)\n",
    "indices = [lat_index, long_index, date_index, -1, -1, -1, event_index]\n",
    "import csv\n",
    "csv_writer = csv.writer(open('sample_out.csv', 'a'))\n",
    "with open(fname, 'rb') as f:\n",
    "    reader = csv.reader(f, delimiter=\"\\t\")\n",
    "    count = 0\n",
    "    for line in reader:\n",
    "        if (count == 0):\n",
    "            count = count + 1\n",
    "            continue\n",
    "        if (count > 20):\n",
    "            break\n",
    "        count = count + 1\n",
    "        write_line = [line[index] if index is not -1 else 'NA' for index in indices]\n",
    "        write_line.append(str(is_violent(line[event_index])))\n",
    "        csv_writer.writerow(write_line)"
   ]
  },
  {
   "cell_type": "code",
   "execution_count": 58,
   "metadata": {
    "collapsed": false
   },
   "outputs": [
    {
     "data": {
      "text/plain": [
       "['', '', '20130101', 'na', 'na', 'na', '172', 'False']"
      ]
     },
     "execution_count": 58,
     "metadata": {},
     "output_type": "execute_result"
    }
   ],
   "source": [
    "write_line"
   ]
  },
  {
   "cell_type": "code",
   "execution_count": null,
   "metadata": {
    "collapsed": true
   },
   "outputs": [],
   "source": []
  }
 ],
 "metadata": {
  "kernelspec": {
   "display_name": "Python 2",
   "language": "python",
   "name": "python2"
  },
  "language_info": {
   "codemirror_mode": {
    "name": "ipython",
    "version": 2
   },
   "file_extension": ".py",
   "mimetype": "text/x-python",
   "name": "python",
   "nbconvert_exporter": "python",
   "pygments_lexer": "ipython2",
   "version": "2.7.13"
  }
 },
 "nbformat": 4,
 "nbformat_minor": 2
}
